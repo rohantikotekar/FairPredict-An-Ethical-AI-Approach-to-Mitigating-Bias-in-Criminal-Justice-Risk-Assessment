{
  "nbformat": 4,
  "nbformat_minor": 0,
  "metadata": {
    "colab": {
      "provenance": []
    },
    "kernelspec": {
      "name": "python3",
      "display_name": "Python 3"
    },
    "language_info": {
      "name": "python"
    }
  },
  "cells": [
    {
      "cell_type": "markdown",
      "source": [
        "# CS108/212 STAT108/212 W25 Course Project\n",
        "\n",
        "### Team Details\n",
        "\n",
        "- Teammate 1: Rohan Tikotekar\n",
        "- Teammate 2: Ali Ordentlich\n",
        "- Teammate 3: Karen Alvarez\n",
        "- Teammate 4: Swaraj Dash\n",
        "\n",
        "---\n",
        "\n",
        "\n",
        "# Milestone: Mitigating Bias\n",
        "For this project milestone, each teammate will implement bias mitigation strategies and assess pre and post bias mitigation performance."
      ],
      "metadata": {
        "id": "rEovHtUoTG6K"
      }
    },
    {
      "cell_type": "markdown",
      "source": [
        "# Installs"
      ],
      "metadata": {
        "id": "H61P2lQlNz1Q"
      }
    },
    {
      "cell_type": "code",
      "source": [
        "# [INSERT CODE HERE to install necessary packages]\n",
        "from sklearn.metrics import accuracy_score, precision_score, recall_score, f1_score, confusion_matrix\n",
        "from sklearn.tree import DecisionTreeClassifier"
      ],
      "metadata": {
        "id": "zcjl4O1GN24E"
      },
      "execution_count": null,
      "outputs": []
    },
    {
      "cell_type": "code",
      "source": [
        "pip install fairlearn"
      ],
      "metadata": {
        "colab": {
          "base_uri": "https://localhost:8080/"
        },
        "id": "1o7OBLW7k5CC",
        "outputId": "f473a84d-925b-456e-ae04-7abc9542595a"
      },
      "execution_count": null,
      "outputs": [
        {
          "output_type": "stream",
          "name": "stdout",
          "text": [
            "Requirement already satisfied: fairlearn in /usr/local/lib/python3.11/dist-packages (0.12.0)\n",
            "Requirement already satisfied: numpy>=1.24.4 in /usr/local/lib/python3.11/dist-packages (from fairlearn) (1.26.4)\n",
            "Requirement already satisfied: pandas>=2.0.3 in /usr/local/lib/python3.11/dist-packages (from fairlearn) (2.2.2)\n",
            "Requirement already satisfied: scikit-learn>=1.2.1 in /usr/local/lib/python3.11/dist-packages (from fairlearn) (1.6.1)\n",
            "Requirement already satisfied: scipy>=1.9.3 in /usr/local/lib/python3.11/dist-packages (from fairlearn) (1.14.1)\n",
            "Requirement already satisfied: python-dateutil>=2.8.2 in /usr/local/lib/python3.11/dist-packages (from pandas>=2.0.3->fairlearn) (2.8.2)\n",
            "Requirement already satisfied: pytz>=2020.1 in /usr/local/lib/python3.11/dist-packages (from pandas>=2.0.3->fairlearn) (2025.1)\n",
            "Requirement already satisfied: tzdata>=2022.7 in /usr/local/lib/python3.11/dist-packages (from pandas>=2.0.3->fairlearn) (2025.1)\n",
            "Requirement already satisfied: joblib>=1.2.0 in /usr/local/lib/python3.11/dist-packages (from scikit-learn>=1.2.1->fairlearn) (1.4.2)\n",
            "Requirement already satisfied: threadpoolctl>=3.1.0 in /usr/local/lib/python3.11/dist-packages (from scikit-learn>=1.2.1->fairlearn) (3.5.0)\n",
            "Requirement already satisfied: six>=1.5 in /usr/local/lib/python3.11/dist-packages (from python-dateutil>=2.8.2->pandas>=2.0.3->fairlearn) (1.17.0)\n"
          ]
        }
      ]
    },
    {
      "cell_type": "markdown",
      "source": [
        "# Imports"
      ],
      "metadata": {
        "id": "2tXKU9aa5HPd"
      }
    },
    {
      "cell_type": "code",
      "source": [
        "import matplotlib.pyplot as plt\n",
        "import seaborn as sns\n",
        "import numpy as np\n",
        "import pandas as pd\n",
        "import collections\n",
        "from pprint import pprint\n",
        "from sklearn.model_selection import train_test_split\n",
        "from sklearn.tree import DecisionTreeClassifier\n",
        "\n",
        "## Add additional imports needed for your project here."
      ],
      "metadata": {
        "id": "CRQN7QJF5JUH"
      },
      "execution_count": null,
      "outputs": []
    },
    {
      "cell_type": "markdown",
      "source": [
        "# Loading dataset\n",
        "_(same as previous milestone, copy-paste)_"
      ],
      "metadata": {
        "id": "7V3zrVf11GUF"
      }
    },
    {
      "cell_type": "code",
      "source": [
        "df_compas = pd.read_csv(\"https://raw.githubusercontent.com/propublica/compas-analysis/master/compas-scores-two-years.csv\")"
      ],
      "metadata": {
        "id": "ErsX320iZ1UM"
      },
      "execution_count": null,
      "outputs": []
    },
    {
      "cell_type": "code",
      "source": [
        "# Load your selected dataset\n",
        "\n",
        "features = ['compas_screening_date', 'sex', 'dob',\n",
        "       'age', 'age_cat', 'race', 'juv_fel_count', 'decile_score',\n",
        "       'juv_misd_count', 'juv_other_count', 'priors_count',\n",
        "       'days_b_screening_arrest', 'c_jail_in', 'c_jail_out', 'c_case_number',\n",
        "       'c_offense_date', 'c_arrest_date', 'c_days_from_compas',\n",
        "       'c_charge_degree', 'c_charge_desc', 'is_recid', 'r_case_number',\n",
        "       'r_charge_degree', 'r_days_from_arrest', 'r_offense_date',\n",
        "       'r_charge_desc', 'r_jail_in', 'r_jail_out', 'violent_recid',\n",
        "       'is_violent_recid', 'vr_case_number', 'vr_charge_degree',\n",
        "       'vr_offense_date', 'vr_charge_desc', 'type_of_assessment',\n",
        "       'decile_score.1', 'score_text', 'screening_date',\n",
        "       'v_type_of_assessment', 'v_decile_score', 'v_score_text',\n",
        "       'v_screening_date', 'in_custody', 'out_custody', 'priors_count.1',\n",
        "       'start', 'end', 'event']\n",
        "\n",
        "X = df_compas[features].copy()\n",
        "y = df_compas['two_year_recid']\n",
        "sensitive_feature_colname = 'race'\n",
        "\n",
        "#sensitive features-based group labels White = 1, Non-white = 0 (privileged = White)\n",
        "X[\"white_binary\"] = (X[\"race\"] == \"Caucasian\").astype(int)\n",
        "\n",
        "group_labels = X[\"white_binary\"]\n",
        "\n",
        "cols_to_drop = [\n",
        "    'compas_screening_date', 'dob', 'c_jail_in', 'c_jail_out', 'c_case_number',\n",
        "    'c_offense_date', 'c_arrest_date', 'c_charge_desc', 'r_case_number',\n",
        "    'r_offense_date', 'r_charge_desc', 'r_jail_in', 'r_jail_out', 'vr_case_number',\n",
        "    'vr_offense_date', 'vr_charge_desc', 'screening_date', 'v_screening_date',\n",
        "    'start', 'end', 'event', 'days_b_screening_arrest',\n",
        "    'v_type_of_assessment', 'type_of_assessment', 'v_decile_score', 'v_score_text',\n",
        "    'in_custody', 'out_custody','decile_score.1', 'two_year_recid', 'is_recid', 'is_violent_recid', 'violent_recid', 'age',\n",
        "    'vr_charge_degree', 'decile_score', 'r_charge_degree', 'r_days_from_arrest', 'score_text', 'vr_charge_degree'\n",
        "]\n",
        "\n",
        "X = X.drop(columns=[col for col in cols_to_drop if col in X.columns], errors='ignore')\n",
        "\n",
        "#stats\n",
        "print(f\"No. of samples: {X.shape[0]}\")\n",
        "print(f\"No. of features: {X.shape[1]}\")\n",
        "print(f\"Group Counts: {dict(collections.Counter(group_labels))}\")"
      ],
      "metadata": {
        "id": "Uimn7Sde1Jp2",
        "colab": {
          "base_uri": "https://localhost:8080/"
        },
        "outputId": "b98c6970-e772-4a17-ea23-2bae9fa98e05"
      },
      "execution_count": null,
      "outputs": [
        {
          "output_type": "stream",
          "name": "stdout",
          "text": [
            "No. of samples: 7214\n",
            "No. of features: 11\n",
            "Group Counts: {0: 4760, 1: 2454}\n"
          ]
        }
      ]
    },
    {
      "cell_type": "code",
      "source": [
        "feature_names = X.columns\n",
        "print(feature_names)\n",
        "\n",
        "print(X.dtypes)"
      ],
      "metadata": {
        "colab": {
          "base_uri": "https://localhost:8080/"
        },
        "id": "3EB_JJwsNHWG",
        "outputId": "e210291e-30d2-472b-fb9b-3cd657a1be4a"
      },
      "execution_count": null,
      "outputs": [
        {
          "output_type": "stream",
          "name": "stdout",
          "text": [
            "Index(['sex', 'age_cat', 'race', 'juv_fel_count', 'juv_misd_count',\n",
            "       'juv_other_count', 'priors_count', 'c_days_from_compas',\n",
            "       'c_charge_degree', 'priors_count.1', 'white_binary'],\n",
            "      dtype='object')\n",
            "sex                    object\n",
            "age_cat                object\n",
            "race                   object\n",
            "juv_fel_count           int64\n",
            "juv_misd_count          int64\n",
            "juv_other_count         int64\n",
            "priors_count            int64\n",
            "c_days_from_compas    float64\n",
            "c_charge_degree        object\n",
            "priors_count.1          int64\n",
            "white_binary            int64\n",
            "dtype: object\n"
          ]
        }
      ]
    },
    {
      "cell_type": "markdown",
      "source": [
        "# Preparing dataset\n",
        "_(same as previous milestone, copy-paste)_"
      ],
      "metadata": {
        "id": "zq2dMuD87D0f"
      }
    },
    {
      "cell_type": "code",
      "source": [
        "# Some subset of following dataset preparation steps may be necessary depending on your dataset,\n",
        "from sklearn.preprocessing import StandardScaler\n",
        "from sklearn.impute import SimpleImputer\n",
        "# 1. Drop unnecessary features: Done in individual parts\n",
        "\n",
        "# 2. Handle missing data\n",
        "\n",
        "numerical_cols = X.select_dtypes(include=['int64', 'float64']).columns\n",
        "categorical_cols = X.select_dtypes(include=['object']).columns\n",
        "\n",
        "# white_binary is binary values, so we want to use a different imputer and exclude it from normalization\n",
        "white_binary_imputer = SimpleImputer(strategy='most_frequent')\n",
        "X['white_binary'] = white_binary_imputer.fit_transform(X[['white_binary']])\n",
        "numerical_cols = numerical_cols[numerical_cols != 'white_binary']\n",
        "\n",
        "numerical_imputer = SimpleImputer(strategy='median')\n",
        "X[numerical_cols] = numerical_imputer.fit_transform(X[numerical_cols])\n",
        "\n",
        "categorical_imputer = SimpleImputer(strategy='most_frequent')\n",
        "X[categorical_cols] = categorical_imputer.fit_transform(X[categorical_cols])\n",
        "\n",
        "# encode categorical features\n",
        "X = pd.get_dummies(X, columns=['sex', 'age_cat', 'race', 'c_charge_degree'], drop_first=True)\n",
        "\n",
        "# normalize numerical features\n",
        "scaler = StandardScaler()\n",
        "X[numerical_cols] = scaler.fit_transform(X[numerical_cols])\n",
        "\n",
        "\n",
        "print(f\"No. of samples AFTER cleaning: {X.shape[0]}\")\n",
        "assert X.shape[0] == y.shape[0] == group_labels.shape[0]\n",
        "print(f\"No. of features AFTER encoding: {X.shape[1]}\")"
      ],
      "metadata": {
        "id": "Mq3wYB1H7CXM",
        "colab": {
          "base_uri": "https://localhost:8080/"
        },
        "outputId": "32076ddb-77a3-45ba-f13d-abe262fb03e4"
      },
      "execution_count": null,
      "outputs": [
        {
          "output_type": "stream",
          "name": "stdout",
          "text": [
            "No. of samples AFTER cleaning: 7214\n",
            "No. of features AFTER encoding: 16\n"
          ]
        }
      ]
    },
    {
      "cell_type": "markdown",
      "source": [
        "# Getting training and testing sets\n",
        "\n",
        "Note: Train-test split is made **ONCE** to obtain the _training set_ and the _testing set_ and every teammate will use the training set to train their baseline model and test the trained model using the testing set. **NEVER** modify the testing set once it has been created.\n",
        "Therefore, the following code cell does not need to be edited.\n",
        "\n",
        "_(same as previous milestone, copy-paste)_"
      ],
      "metadata": {
        "id": "h1xfwjUT3nJ0"
      }
    },
    {
      "cell_type": "code",
      "source": [
        "X_train, X_test, \\\n",
        "  y_train, y_test, \\\n",
        "    group_labels_train, group_labels_test = train_test_split(X, y, group_labels, test_size=0.2, random_state=42)\n",
        "\n",
        "print(f\"No. of training samples: {X_train.shape[0]}\")\n",
        "print(f\"No. of testing samples: {X_test.shape[0]}\")\n",
        "\n",
        "# Delete X, y and group_label variables to make sure they are not used later on.\n",
        "del X\n",
        "del y\n",
        "del group_labels"
      ],
      "metadata": {
        "id": "udqlgotu5a5m",
        "colab": {
          "base_uri": "https://localhost:8080/"
        },
        "outputId": "ae593bb0-7b75-4b95-a601-4f23c8ad8123"
      },
      "execution_count": null,
      "outputs": [
        {
          "output_type": "stream",
          "name": "stdout",
          "text": [
            "No. of training samples: 5771\n",
            "No. of testing samples: 1443\n"
          ]
        }
      ]
    },
    {
      "cell_type": "markdown",
      "source": [
        "# Setting up evaluation metrics\n",
        "Note: The same evaluation function will be used by all teammates.\n",
        "\n",
        "_(same as previous milestone, copy-paste)_"
      ],
      "metadata": {
        "id": "stfLke4NBA-B"
      }
    },
    {
      "cell_type": "code",
      "source": [
        "from sklearn.metrics import accuracy_score, precision_score, recall_score, f1_score, confusion_matrix\n",
        "\n",
        "def evaluate_model(y_test, y_pred, g_labels):\n",
        "    \"\"\"\n",
        "    Evaluate the performance of your trained model on the testing set.\n",
        "    \"\"\"\n",
        "    results = {}\n",
        "\n",
        "    # Overall performance metrics\n",
        "    results['accuracy'] = accuracy_score(y_test, y_pred)\n",
        "    results['precision'] = precision_score(y_test, y_pred, zero_division=0)\n",
        "    results['recall'] = recall_score(y_test, y_pred)\n",
        "    results['f1'] = f1_score(y_test, y_pred)\n",
        "\n",
        "    # Group-wise performance metrics\n",
        "    for group in [0, 1]:\n",
        "        mask = (g_labels == group)\n",
        "        if sum(mask) == 0:  # Handle missing groups\n",
        "            continue\n",
        "\n",
        "        results[f'accuracy_group{group}'] = accuracy_score(y_test[mask], y_pred[mask])\n",
        "        results[f'precision_group{group}'] = precision_score(y_test[mask], y_pred[mask], zero_division=0)\n",
        "        results[f'recall_group{group}'] = recall_score(y_test[mask], y_pred[mask])\n",
        "        results[f'f1_group{group}'] = f1_score(y_test[mask], y_pred[mask])\n",
        "\n",
        "    # Fairness metrics\n",
        "    # Demographic parity difference (selection rate difference)\n",
        "    selection_rate = [y_pred[g_labels == group].mean() for group in [0, 1]]\n",
        "    results['demographic_parity_diff'] = abs(selection_rate[1] - selection_rate[0])\n",
        "\n",
        "    # Equalized odds (maximum difference in TPR and FPR between groups)\n",
        "    def get_rates(y_true, y_pred):\n",
        "        tn, fp, fn, tp = confusion_matrix(y_true, y_pred).ravel()\n",
        "        return tp/(tp+fn) if (tp+fn) > 0 else 0, fp/(fp+tn) if (fp+tn) > 0 else 0\n",
        "\n",
        "    tpr, fpr = [], []\n",
        "    for group in [0, 1]:\n",
        "        mask = (g_labels == group)\n",
        "        if sum(mask) > 0:\n",
        "            group_tpr, group_fpr = get_rates(y_test[mask], y_pred[mask])\n",
        "            tpr.append(group_tpr)\n",
        "            fpr.append(group_fpr)\n",
        "\n",
        "    results['equalized_odds_tpr_diff'] = abs(tpr[1] - tpr[0]) if len(tpr) == 2 else 0\n",
        "    results['equalized_odds_fpr_diff'] = abs(fpr[1] - fpr[0]) if len(fpr) == 2 else 0\n",
        "    results['equalized_odds_max_diff'] = max(results['equalized_odds_tpr_diff'],\n",
        "                                          results['equalized_odds_fpr_diff'])\n",
        "\n",
        "    return results"
      ],
      "metadata": {
        "id": "RxX61lMDA50u"
      },
      "execution_count": null,
      "outputs": []
    },
    {
      "cell_type": "markdown",
      "source": [
        "# Training baseline models (INDIVIDUAL CONTRIBUTION)\n",
        "_(minor modifications from previous milestone)_"
      ],
      "metadata": {
        "id": "My_giZbvpFEK"
      }
    },
    {
      "cell_type": "code",
      "source": [
        "## A place to save all teammates's baseline results\n",
        "all_baseline_results = [] ## DO NOT EDIT"
      ],
      "metadata": {
        "id": "kK2P9uZnIKGf"
      },
      "execution_count": null,
      "outputs": []
    },
    {
      "cell_type": "markdown",
      "source": [
        "## Teammate 1"
      ],
      "metadata": {
        "id": "400FpWHZ_z0S"
      }
    },
    {
      "cell_type": "code",
      "source": [
        "from sklearn.naive_bayes import GaussianNB\n",
        "from sklearn.compose import ColumnTransformer\n",
        "from sklearn.pipeline import Pipeline\n",
        "from sklearn.preprocessing import StandardScaler, OneHotEncoder\n",
        "\n",
        "\n",
        "# Identify numeric and categorical features **after encoding**\n",
        "categorical_features = [col for col in X_train.select_dtypes(include=['object']).columns]\n",
        "\n",
        "# Ensure categorical columns are all strings to prevent mixed-type errors\n",
        "for col in categorical_features:\n",
        "    X_train[col] = X_train[col].astype(str)\n",
        "    X_test[col] = X_test[col].astype(str)\n",
        "\n",
        "\n",
        "# Define Naive Bayes pipeline\n",
        "\"\"\"model = Pipeline([\n",
        "    ('preprocessor', preprocessor),\n",
        "    ('classifier', GaussianNB())\n",
        "])\"\"\"\n",
        "model = GaussianNB()\n",
        "# Train the model\n",
        "model.fit(X_train, y_train)\n",
        "\n",
        "# Generate predictions\n",
        "y_pred = model.predict(X_test)\n",
        "\n",
        "# Evaluate model\n",
        "results = evaluate_model(y_test, y_pred, group_labels_test)\n",
        "\n",
        "# Format results as per your requested output structure\n",
        "formatted_results = {\n",
        "    'accuracy': results.get('accuracy', 0),\n",
        "    'accuracy_group0': results.get('accuracy_group0', 0),\n",
        "    'accuracy_group1': results.get('accuracy_group1', 0),\n",
        "    'demographic_parity_diff': results.get('demographic_parity_diff', 0),\n",
        "    'equalized_odds_fpr_diff': results.get('equalized_odds_fpr_diff', 0),\n",
        "    'equalized_odds_max_diff': results.get('equalized_odds_max_diff', 0),\n",
        "    'equalized_odds_tpr_diff': results.get('equalized_odds_tpr_diff', 0),\n",
        "    'experiment_type': 'baseline',\n",
        "    'f1': results.get('f1', 0),\n",
        "    'f1_group0': results.get('f1_group0', 0),\n",
        "    'f1_group1': results.get('f1_group1', 0),\n",
        "    'mitigation_strategy': 'NONE',  # This is pre-mitigation baseline\n",
        "    'precision': results.get('precision', 0),\n",
        "    'precision_group0': results.get('precision_group0', 0),\n",
        "    'precision_group1': results.get('precision_group1', 0),\n",
        "    'predictor_model': 'Naive Bayes',\n",
        "    'recall': results.get('recall', 0),\n",
        "    'recall_group0': results.get('recall_group0', 0),\n",
        "    'recall_group1': results.get('recall_group1', 0),\n",
        "    'teammate': 'Rohan'\n",
        "}\n",
        "\n",
        "all_baseline_results.append(formatted_results)\n",
        "pprint(formatted_results)\n"
      ],
      "metadata": {
        "id": "BjKUAk4I_4DQ",
        "colab": {
          "base_uri": "https://localhost:8080/"
        },
        "outputId": "cb64f9f5-3053-44b4-aa54-d6188557e9ce"
      },
      "execution_count": null,
      "outputs": [
        {
          "output_type": "stream",
          "name": "stdout",
          "text": [
            "{'accuracy': 0.6604296604296604,\n",
            " 'accuracy_group0': 0.6513859275053305,\n",
            " 'accuracy_group1': 0.6772277227722773,\n",
            " 'demographic_parity_diff': 0.14101205429711416,\n",
            " 'equalized_odds_fpr_diff': 0.0749627236580517,\n",
            " 'equalized_odds_max_diff': 0.1837837837837838,\n",
            " 'equalized_odds_tpr_diff': 0.1837837837837838,\n",
            " 'experiment_type': 'baseline',\n",
            " 'f1': 0.4662309368191721,\n",
            " 'f1_group0': 0.5155555555555555,\n",
            " 'f1_group1': 0.3292181069958848,\n",
            " 'mitigation_strategy': 'NONE',\n",
            " 'precision': 0.7181208053691275,\n",
            " 'precision_group0': 0.725,\n",
            " 'precision_group1': 0.6896551724137931,\n",
            " 'predictor_model': 'Naive Bayes',\n",
            " 'recall': 0.34516129032258064,\n",
            " 'recall_group0': 0.4,\n",
            " 'recall_group1': 0.21621621621621623,\n",
            " 'teammate': 'Rohan'}\n"
          ]
        }
      ]
    },
    {
      "cell_type": "markdown",
      "source": [
        "## Teammate 2"
      ],
      "metadata": {
        "id": "_VYWPshD_zlw"
      }
    },
    {
      "cell_type": "code",
      "source": [
        "from sklearn.model_selection import train_test_split\n",
        "from sklearn.linear_model import LogisticRegression\n",
        "from sklearn.impute import SimpleImputer\n",
        "from sklearn.preprocessing import OneHotEncoder, StandardScaler\n",
        "from sklearn.compose import ColumnTransformer\n",
        "from sklearn.metrics import mean_squared_error\n",
        "from sklearn.pipeline import Pipeline\n",
        "\n",
        "model = LogisticRegression()\n",
        "model.fit(X_train, y_train)\n",
        "y_pred = model.predict(X_test)\n",
        "\n",
        "results = evaluate_model(y_test, y_pred, group_labels_test)\n",
        "results['teammate'] = 'Ali'\n",
        "results['experiment_type'] = 'baseline'\n",
        "results['predictor_model'] = 'Logistic Regression'\n",
        "results['mitigation_strategy'] = 'NONE' ## DO NOT EDIT: This is pre-mitigation baseline\n",
        "all_baseline_results.append(results)\n",
        "pprint(results)"
      ],
      "metadata": {
        "id": "dgDw0Ta7_7FT",
        "colab": {
          "base_uri": "https://localhost:8080/"
        },
        "outputId": "06b193b6-3480-47f9-943a-b0da91aa007b"
      },
      "execution_count": null,
      "outputs": [
        {
          "output_type": "stream",
          "name": "stdout",
          "text": [
            "{'accuracy': 0.6923076923076923,\n",
            " 'accuracy_group0': 0.6812366737739872,\n",
            " 'accuracy_group1': 0.7128712871287128,\n",
            " 'demographic_parity_diff': 0.16718528995756715,\n",
            " 'equalized_odds_fpr_diff': 0.12066351888667992,\n",
            " 'equalized_odds_max_diff': 0.15352593973283624,\n",
            " 'equalized_odds_tpr_diff': 0.15352593973283624,\n",
            " 'experiment_type': 'baseline',\n",
            " 'f1': 0.6152512998266898,\n",
            " 'f1_group0': 0.6427718040621266,\n",
            " 'f1_group1': 0.5425867507886435,\n",
            " 'mitigation_strategy': 'NONE',\n",
            " 'precision': 0.6647940074906367,\n",
            " 'precision_group0': 0.6691542288557214,\n",
            " 'precision_group1': 0.6515151515151515,\n",
            " 'predictor_model': 'Logistic Regression',\n",
            " 'recall': 0.5725806451612904,\n",
            " 'recall_group0': 0.6183908045977011,\n",
            " 'recall_group1': 0.4648648648648649,\n",
            " 'teammate': 'Ali'}\n"
          ]
        }
      ]
    },
    {
      "cell_type": "markdown",
      "source": [
        "## Teammate 3"
      ],
      "metadata": {
        "id": "_Bq--e_8_7o2"
      }
    },
    {
      "cell_type": "code",
      "source": [
        "X_train_selected = X_train.copy()\n",
        "X_test_selected = X_test.copy()\n",
        "\n",
        "#make and train decision tree classifier\n",
        "clf = DecisionTreeClassifier(criterion='gini', max_depth=5, random_state=42)\n",
        "clf.fit(X_train_selected, y_train)\n",
        "\n",
        "y_pred_proba = clf.predict_proba(X_test_selected)[:, 1]\n",
        "y_pred = clf.predict(X_test_selected)\n",
        "\n",
        "#eval\n",
        "results = evaluate_model(y_test, y_pred, group_labels_test)\n",
        "\n",
        "#print results\n",
        "print(\"\\nModel Evaluation Results:\")\n",
        "for metric, value in results.items():\n",
        "    print(f\"{metric}: {value:.4f}\")\n",
        "\n",
        "#save to results\n",
        "results['teammate'] = 'Karen'\n",
        "results['experiment_type'] = 'baseline'\n",
        "results['predictor_model'] = 'Decision Tree Classifier'\n",
        "results['mitigation_strategy'] = 'NONE'  # DO NOT EDIT: This is pre-mitigation baseline\n",
        "\n",
        "all_baseline_results.append(results)\n",
        "pprint(results)\n"
      ],
      "metadata": {
        "id": "j9DspEoL_-EV",
        "colab": {
          "base_uri": "https://localhost:8080/"
        },
        "outputId": "d07d73f1-244e-49a0-9b4b-eefd24f2264e"
      },
      "execution_count": null,
      "outputs": [
        {
          "output_type": "stream",
          "name": "stdout",
          "text": [
            "\n",
            "Model Evaluation Results:\n",
            "accuracy: 0.6868\n",
            "precision: 0.6203\n",
            "recall: 0.6984\n",
            "f1: 0.6571\n",
            "accuracy_group0: 0.6844\n",
            "precision_group0: 0.6371\n",
            "recall_group0: 0.7425\n",
            "f1_group0: 0.6858\n",
            "accuracy_group1: 0.6911\n",
            "precision_group1: 0.5759\n",
            "recall_group1: 0.5946\n",
            "f1_group1: 0.5851\n",
            "demographic_parity_diff: 0.1623\n",
            "equalized_odds_tpr_diff: 0.1479\n",
            "equalized_odds_fpr_diff: 0.1127\n",
            "equalized_odds_max_diff: 0.1479\n",
            "{'accuracy': 0.6867636867636867,\n",
            " 'accuracy_group0': 0.6844349680170576,\n",
            " 'accuracy_group1': 0.691089108910891,\n",
            " 'demographic_parity_diff': 0.16229390529671306,\n",
            " 'equalized_odds_fpr_diff': 0.11268016898608352,\n",
            " 'equalized_odds_max_diff': 0.14793414103758928,\n",
            " 'equalized_odds_tpr_diff': 0.14793414103758928,\n",
            " 'experiment_type': 'baseline',\n",
            " 'f1': 0.6570561456752656,\n",
            " 'f1_group0': 0.6857749469214437,\n",
            " 'f1_group1': 0.5851063829787234,\n",
            " 'mitigation_strategy': 'NONE',\n",
            " 'precision': 0.6203438395415473,\n",
            " 'precision_group0': 0.6370808678500987,\n",
            " 'precision_group1': 0.5759162303664922,\n",
            " 'predictor_model': 'Decision Tree Classifier',\n",
            " 'recall': 0.6983870967741935,\n",
            " 'recall_group0': 0.7425287356321839,\n",
            " 'recall_group1': 0.5945945945945946,\n",
            " 'teammate': 'Karen'}\n"
          ]
        }
      ]
    },
    {
      "cell_type": "markdown",
      "source": [
        "## Teammate 4"
      ],
      "metadata": {
        "id": "DXm38f8ZABN3"
      }
    },
    {
      "cell_type": "code",
      "source": [
        "from sklearn.ensemble import RandomForestClassifier\n",
        "\n",
        "#Run rf model\n",
        "rf_model_top = RandomForestClassifier(n_estimators=100, random_state=42)\n",
        "rf_model_top.fit(X_train, y_train)\n",
        "\n",
        "\n",
        "# Make predictions on the testing set and store them in y_pred\n",
        "y_pred = rf_model_top.predict(X_test)\n",
        "# Evaluate testing set predictions using evaluate_model()\n",
        "results = evaluate_model(y_test, y_pred, group_labels_test)\n",
        "print(\"\\nModel Evaluation Results:\")\n",
        "for metric, value in results.items() :\n",
        "    print(f\"{metric}:{value:.4f}\")\n",
        "\n",
        "\n",
        "\n",
        "#Save your results to all_baseline_results\n",
        "results['teammate'] = 'Swaraj Dash'\n",
        "results['experiment_type'] = 'baseline'\n",
        "results['predictor_model'] = 'Random Forest'\n",
        "results['mitigation_strategy'] = 'NONE' ## DO NOT EDIT: This is pre-mitigation baseline\n",
        "all_baseline_results.append(results)\n",
        "\n",
        "#pprint(results)"
      ],
      "metadata": {
        "id": "g-GVw7gOADZx",
        "colab": {
          "base_uri": "https://localhost:8080/"
        },
        "outputId": "212f8cf7-751b-451e-aa18-2ec37593fef7"
      },
      "execution_count": null,
      "outputs": [
        {
          "output_type": "stream",
          "name": "stdout",
          "text": [
            "\n",
            "Model Evaluation Results:\n",
            "accuracy:0.6507\n",
            "precision:0.5948\n",
            "recall:0.5871\n",
            "f1:0.5909\n",
            "accuracy_group0:0.6525\n",
            "precision_group0:0.6236\n",
            "recall_group0:0.6322\n",
            "f1_group0:0.6279\n",
            "accuracy_group1:0.6475\n",
            "precision_group1:0.5205\n",
            "recall_group1:0.4811\n",
            "f1_group1:0.5000\n",
            "demographic_parity_diff:0.1315\n",
            "equalized_odds_tpr_diff:0.1511\n",
            "equalized_odds_fpr_diff:0.0738\n",
            "equalized_odds_max_diff:0.1511\n"
          ]
        }
      ]
    },
    {
      "cell_type": "markdown",
      "source": [
        "# Mitigating Bias (INDIVIDUAL CONTRIBUTION)\n",
        "\n",
        "_(new in this milestone)_\n"
      ],
      "metadata": {
        "id": "-Lq5X0Xb5eWA"
      }
    },
    {
      "cell_type": "code",
      "source": [
        "## A place to save all teammates' post-mitigation results\n",
        "all_mitigated_results = [] ## DO NOT EDIT"
      ],
      "metadata": {
        "id": "LwfT5Uv9I0j6"
      },
      "execution_count": null,
      "outputs": []
    },
    {
      "cell_type": "markdown",
      "source": [
        "## Teammate 1"
      ],
      "metadata": {
        "id": "jmQrfFvn6E85"
      }
    },
    {
      "cell_type": "code",
      "source": [
        "import numpy as np\n",
        "import pandas as pd\n",
        "from sklearn.naive_bayes import GaussianNB\n",
        "from sklearn.compose import ColumnTransformer\n",
        "from sklearn.pipeline import Pipeline\n",
        "from sklearn.preprocessing import StandardScaler, OneHotEncoder\n",
        "from sklearn.metrics import accuracy_score, precision_score, recall_score, f1_score, confusion_matrix\n",
        "\n",
        "# Ensure `all_mitigated_results` is defined\n",
        "if 'all_mitigated_results' not in globals():\n",
        "    all_mitigated_results = []\n",
        "\n",
        "\n",
        "# Identify numeric and categorical features **after encoding**\n",
        "categorical_features = [col for col in X_train.select_dtypes(include=['object']).columns]\n",
        "\n",
        "# Ensure categorical columns are all strings to prevent mixed-type errors\n",
        "for col in categorical_features:\n",
        "    X_train[col] = X_train[col].astype(str)\n",
        "    X_test[col] = X_test[col].astype(str)\n",
        "\n",
        "\n",
        "# Compute sample weights for reweighting based on group labels\n",
        "unique_groups, counts = np.unique(group_labels_train, return_counts=True)\n",
        "group_probs = counts / len(group_labels_train)\n",
        "\n",
        "# Avoid division by zero by adding a small constant\n",
        "eps = 1e-6\n",
        "group_weights = {g: 1 / (p + eps) for g, p in zip(unique_groups, group_probs)}\n",
        "\n",
        "# Assign weights to samples based on their group\n",
        "sample_weights = np.array([group_weights.get(g, 1) for g in group_labels_train])\n",
        "\n",
        "\n",
        "model_mitigated = GaussianNB()\n",
        "\n",
        "# Fit model with sample weights\n",
        "model_mitigated.fit(X_train, y_train, sample_weight=sample_weights)\n",
        "\n",
        "# Make predictions on the test set\n",
        "y_pred_mitigated = model_mitigated.predict(X_test)\n",
        "\n",
        "# Evaluate the mitigated model\n",
        "def evaluate_model(y_test, y_pred, g_labels):\n",
        "    \"\"\"\n",
        "    Evaluate the performance of your trained model on the testing set.\n",
        "    \"\"\"\n",
        "    results = {}\n",
        "\n",
        "    # Overall performance metrics\n",
        "    results['accuracy'] = accuracy_score(y_test, y_pred)\n",
        "    results['precision'] = precision_score(y_test, y_pred, zero_division=0)\n",
        "    results['recall'] = recall_score(y_test, y_pred)\n",
        "    results['f1'] = f1_score(y_test, y_pred)\n",
        "\n",
        "    # Group-wise performance metrics\n",
        "    for group in [0, 1]:\n",
        "        mask = (g_labels == group)\n",
        "        if sum(mask) == 0:  # Handle missing groups\n",
        "            continue\n",
        "\n",
        "        results[f'accuracy_group{group}'] = accuracy_score(y_test[mask], y_pred[mask])\n",
        "        results[f'precision_group{group}'] = precision_score(y_test[mask], y_pred[mask], zero_division=0)\n",
        "        results[f'recall_group{group}'] = recall_score(y_test[mask], y_pred[mask])\n",
        "        results[f'f1_group{group}'] = f1_score(y_test[mask], y_pred[mask])\n",
        "\n",
        "    # Fairness metrics\n",
        "    # Demographic parity difference (selection rate difference)\n",
        "    selection_rate = [y_pred[g_labels == group].mean() for group in [0, 1]]\n",
        "    results['demographic_parity_diff'] = abs(selection_rate[1] - selection_rate[0])\n",
        "\n",
        "    # Equalized odds (maximum difference in TPR and FPR between groups)\n",
        "    def get_rates(y_true, y_pred):\n",
        "        tn, fp, fn, tp = confusion_matrix(y_true, y_pred).ravel()\n",
        "        return tp/(tp+fn) if (tp+fn) > 0 else 0, fp/(fp+tn) if (fp+tn) > 0 else 0\n",
        "\n",
        "    tpr, fpr = [], []\n",
        "    for group in [0, 1]:\n",
        "        mask = (g_labels == group)\n",
        "        if sum(mask) > 0:\n",
        "            group_tpr, group_fpr = get_rates(y_test[mask], y_pred[mask])\n",
        "            tpr.append(group_tpr)\n",
        "            fpr.append(group_fpr)\n",
        "\n",
        "    results['equalized_odds_tpr_diff'] = abs(tpr[1] - tpr[0]) if len(tpr) == 2 else 0\n",
        "    results['equalized_odds_fpr_diff'] = abs(fpr[1] - fpr[0]) if len(fpr) == 2 else 0\n",
        "    results['equalized_odds_max_diff'] = max(results['equalized_odds_tpr_diff'],\n",
        "                                          results['equalized_odds_fpr_diff'])\n",
        "\n",
        "    return results\n",
        "\n",
        "results_mitigated = evaluate_model(y_test, y_pred_mitigated, group_labels_test)\n",
        "\n",
        "formatted_results_mitigated = {\n",
        "    'accuracy': results_mitigated.get('accuracy', 0),\n",
        "    'accuracy_group0': results_mitigated.get('accuracy_group0', 0),\n",
        "    'accuracy_group1': results_mitigated.get('accuracy_group1', 0),\n",
        "    'demographic_parity_diff': results_mitigated.get('demographic_parity_diff', 0),\n",
        "    'equalized_odds_fpr_diff': results_mitigated.get('equalized_odds_fpr_diff', 0),\n",
        "    'equalized_odds_max_diff': results_mitigated.get('equalized_odds_max_diff', 0),\n",
        "    'equalized_odds_tpr_diff': results_mitigated.get('equalized_odds_tpr_diff', 0),\n",
        "    'experiment_type': 'post-mitigation',\n",
        "    'f1': results_mitigated.get('f1', 0),\n",
        "    'f1_group0': results_mitigated.get('f1_group0', 0),\n",
        "    'f1_group1': results_mitigated.get('f1_group1', 0),\n",
        "    'mitigation_strategy': 'preprocessing',\n",
        "    'precision': results_mitigated.get('precision', 0),\n",
        "    'precision_group0': results_mitigated.get('precision_group0', 0),\n",
        "    'precision_group1': results_mitigated.get('precision_group1', 0),\n",
        "    'predictor_model': 'Naive Bayes',\n",
        "    'recall': results_mitigated.get('recall', 0),\n",
        "    'recall_group0': results_mitigated.get('recall_group0', 0),\n",
        "    'recall_group1': results_mitigated.get('recall_group1', 0),\n",
        "    'teammate': 'Rohan'\n",
        "}\n",
        "\n",
        "# Save results to mitigated results list\n",
        "all_mitigated_results.append(formatted_results_mitigated)\n",
        "\n",
        "# Print the formatted results\n",
        "from pprint import pprint\n",
        "pprint(formatted_results_mitigated)\n"
      ],
      "metadata": {
        "id": "CZhAOHFB5lzh",
        "colab": {
          "base_uri": "https://localhost:8080/"
        },
        "outputId": "7e09ec6f-6619-40be-98ce-e88e93ca6f2a"
      },
      "execution_count": null,
      "outputs": [
        {
          "output_type": "stream",
          "name": "stdout",
          "text": [
            "{'accuracy': 0.6611226611226612,\n",
            " 'accuracy_group0': 0.6481876332622601,\n",
            " 'accuracy_group1': 0.6851485148514852,\n",
            " 'demographic_parity_diff': 0.1451223373936541,\n",
            " 'equalized_odds_fpr_diff': 0.08973036779324055,\n",
            " 'equalized_odds_max_diff': 0.1705498602050326,\n",
            " 'equalized_odds_tpr_diff': 0.1705498602050326,\n",
            " 'experiment_type': 'post-mitigation',\n",
            " 'f1': 0.4792332268370607,\n",
            " 'f1_group0': 0.5217391304347826,\n",
            " 'f1_group1': 0.3614457831325301,\n",
            " 'mitigation_strategy': 'preprocessing',\n",
            " 'precision': 0.7053291536050157,\n",
            " 'precision_group0': 0.7058823529411765,\n",
            " 'precision_group1': 0.703125,\n",
            " 'predictor_model': 'Naive Bayes',\n",
            " 'recall': 0.3629032258064516,\n",
            " 'recall_group0': 0.41379310344827586,\n",
            " 'recall_group1': 0.24324324324324326,\n",
            " 'teammate': 'Rohan'}\n"
          ]
        }
      ]
    },
    {
      "cell_type": "markdown",
      "source": [
        "The post-mitigation model demonstrates a marginal improvement in overall performance while showing slight shifts in fairness metrics compared to the baseline model. The accuracy increased slightly from **66.04% to 66.11%**, indicating a minor but positive change in model correctness. The F1-score improved from **46.62% to 47.92%**, suggesting a better balance between precision and recall. Notably, F1-score for **Group 1** saw an improvement from **32.92% to 36.14%**, reflecting enhanced performance for that subgroup.\n",
        "\n",
        "The recall metric, which measures the model’s ability to correctly identify positive cases, improved from **34.52% to 36.29%**, indicating a slight increase in the model’s ability to detect true positives. However, the recall gap between groups persists, with **Group 1's recall increasing from 21.62% to 24.32%**, still lower than Group 0's recall. Precision remains relatively stable, with a slight decrease from **71.81% to 70.53%**, indicating the model maintains a strong ability to minimize false positives while achieving a better balance between recall and precision.\n",
        "\n",
        "Fairness metrics show mixed results. While **equalized odds (TPR and FPR differences) slightly improved**, demographic parity difference increased from **0.141 to 0.145**, suggesting a minor shift in representation balance. Overall, the mitigation strategy led to a modest improvement in performance and a partial reduction in fairness disparities, making the model slightly more reliable and equitable.\n"
      ],
      "metadata": {
        "id": "X05x8kjr6KrH"
      }
    },
    {
      "cell_type": "markdown",
      "source": [
        "## Teammate 2"
      ],
      "metadata": {
        "id": "ZLB2ggUCBen_"
      }
    },
    {
      "cell_type": "code",
      "source": [
        "X_train[\"white_binary\"].value_counts()"
      ],
      "metadata": {
        "id": "5ohjQE2GUedJ",
        "colab": {
          "base_uri": "https://localhost:8080/",
          "height": 178
        },
        "outputId": "d595c7f4-58ba-4801-b4f8-32fb7ae8778a"
      },
      "execution_count": null,
      "outputs": [
        {
          "output_type": "execute_result",
          "data": {
            "text/plain": [
              "white_binary\n",
              "0    3822\n",
              "1    1949\n",
              "Name: count, dtype: int64"
            ],
            "text/html": [
              "<div>\n",
              "<style scoped>\n",
              "    .dataframe tbody tr th:only-of-type {\n",
              "        vertical-align: middle;\n",
              "    }\n",
              "\n",
              "    .dataframe tbody tr th {\n",
              "        vertical-align: top;\n",
              "    }\n",
              "\n",
              "    .dataframe thead th {\n",
              "        text-align: right;\n",
              "    }\n",
              "</style>\n",
              "<table border=\"1\" class=\"dataframe\">\n",
              "  <thead>\n",
              "    <tr style=\"text-align: right;\">\n",
              "      <th></th>\n",
              "      <th>count</th>\n",
              "    </tr>\n",
              "    <tr>\n",
              "      <th>white_binary</th>\n",
              "      <th></th>\n",
              "    </tr>\n",
              "  </thead>\n",
              "  <tbody>\n",
              "    <tr>\n",
              "      <th>0</th>\n",
              "      <td>3822</td>\n",
              "    </tr>\n",
              "    <tr>\n",
              "      <th>1</th>\n",
              "      <td>1949</td>\n",
              "    </tr>\n",
              "  </tbody>\n",
              "</table>\n",
              "</div><br><label><b>dtype:</b> int64</label>"
            ]
          },
          "metadata": {},
          "execution_count": 17
        }
      ]
    },
    {
      "cell_type": "code",
      "source": [
        "from imblearn.over_sampling import SMOTE\n",
        "\n",
        "# Implement your bias mitigation strategy\n",
        "## If you chose preprocessing, you will train a new version of your predictor model with new/modified inputs.\n",
        "## If you chose inprocessing, you will train a new version of your predictor with modified learning objective (loss function).\n",
        "## If you chose postprocessing, you will implement strategies to modify the predictions (y_pred) of the trained baseline predictor model from the previous milestone without training any new version of the predictor model.\n",
        "sm = SMOTE(random_state=42)\n",
        "\n",
        "white_binary_labels_train = X_train[\"white_binary\"]\n",
        "y_train_reshaped = y_train.values.reshape(-1, 1)\n",
        "\n",
        "Ali_X_resampled, white_binary_labels_resampled = sm.fit_resample(X_train, white_binary_labels_train)\n",
        "Ali_y_resampled, _ = sm.fit_resample(y_train_reshaped, white_binary_labels_train)\n",
        "Ali_y_resampled = Ali_y_resampled.ravel()"
      ],
      "metadata": {
        "id": "vtbctHpBBgna"
      },
      "execution_count": null,
      "outputs": []
    },
    {
      "cell_type": "code",
      "source": [
        "white_binary_labels_resampled.value_counts()"
      ],
      "metadata": {
        "id": "DKwQC-c5iXmK",
        "colab": {
          "base_uri": "https://localhost:8080/",
          "height": 178
        },
        "outputId": "5229e481-ad7d-451f-b3eb-37eb010bf885"
      },
      "execution_count": null,
      "outputs": [
        {
          "output_type": "execute_result",
          "data": {
            "text/plain": [
              "white_binary\n",
              "1    3822\n",
              "0    3822\n",
              "Name: count, dtype: int64"
            ],
            "text/html": [
              "<div>\n",
              "<style scoped>\n",
              "    .dataframe tbody tr th:only-of-type {\n",
              "        vertical-align: middle;\n",
              "    }\n",
              "\n",
              "    .dataframe tbody tr th {\n",
              "        vertical-align: top;\n",
              "    }\n",
              "\n",
              "    .dataframe thead th {\n",
              "        text-align: right;\n",
              "    }\n",
              "</style>\n",
              "<table border=\"1\" class=\"dataframe\">\n",
              "  <thead>\n",
              "    <tr style=\"text-align: right;\">\n",
              "      <th></th>\n",
              "      <th>count</th>\n",
              "    </tr>\n",
              "    <tr>\n",
              "      <th>white_binary</th>\n",
              "      <th></th>\n",
              "    </tr>\n",
              "  </thead>\n",
              "  <tbody>\n",
              "    <tr>\n",
              "      <th>1</th>\n",
              "      <td>3822</td>\n",
              "    </tr>\n",
              "    <tr>\n",
              "      <th>0</th>\n",
              "      <td>3822</td>\n",
              "    </tr>\n",
              "  </tbody>\n",
              "</table>\n",
              "</div><br><label><b>dtype:</b> int64</label>"
            ]
          },
          "metadata": {},
          "execution_count": 19
        }
      ]
    },
    {
      "cell_type": "code",
      "source": [
        "y_resampled_series = pd.Series(Ali_y_resampled)\n",
        "y_resampled_series.value_counts()"
      ],
      "metadata": {
        "id": "CYqgu0DHiZ1W",
        "colab": {
          "base_uri": "https://localhost:8080/",
          "height": 147
        },
        "outputId": "141f46fc-06f5-457b-be04-fe8c5cbf4786"
      },
      "execution_count": null,
      "outputs": [
        {
          "output_type": "execute_result",
          "data": {
            "text/plain": [
              "0    4241\n",
              "1    3403\n",
              "Name: count, dtype: int64"
            ],
            "text/html": [
              "<div>\n",
              "<style scoped>\n",
              "    .dataframe tbody tr th:only-of-type {\n",
              "        vertical-align: middle;\n",
              "    }\n",
              "\n",
              "    .dataframe tbody tr th {\n",
              "        vertical-align: top;\n",
              "    }\n",
              "\n",
              "    .dataframe thead th {\n",
              "        text-align: right;\n",
              "    }\n",
              "</style>\n",
              "<table border=\"1\" class=\"dataframe\">\n",
              "  <thead>\n",
              "    <tr style=\"text-align: right;\">\n",
              "      <th></th>\n",
              "      <th>count</th>\n",
              "    </tr>\n",
              "  </thead>\n",
              "  <tbody>\n",
              "    <tr>\n",
              "      <th>0</th>\n",
              "      <td>4241</td>\n",
              "    </tr>\n",
              "    <tr>\n",
              "      <th>1</th>\n",
              "      <td>3403</td>\n",
              "    </tr>\n",
              "  </tbody>\n",
              "</table>\n",
              "</div><br><label><b>dtype:</b> int64</label>"
            ]
          },
          "metadata": {},
          "execution_count": 20
        }
      ]
    },
    {
      "cell_type": "code",
      "source": [
        "group_labels_test.value_counts()"
      ],
      "metadata": {
        "id": "HmRivqflbJwv",
        "colab": {
          "base_uri": "https://localhost:8080/",
          "height": 178
        },
        "outputId": "47a22435-1f34-4f79-fb7f-031e2e87d2f9"
      },
      "execution_count": null,
      "outputs": [
        {
          "output_type": "execute_result",
          "data": {
            "text/plain": [
              "white_binary\n",
              "0    938\n",
              "1    505\n",
              "Name: count, dtype: int64"
            ],
            "text/html": [
              "<div>\n",
              "<style scoped>\n",
              "    .dataframe tbody tr th:only-of-type {\n",
              "        vertical-align: middle;\n",
              "    }\n",
              "\n",
              "    .dataframe tbody tr th {\n",
              "        vertical-align: top;\n",
              "    }\n",
              "\n",
              "    .dataframe thead th {\n",
              "        text-align: right;\n",
              "    }\n",
              "</style>\n",
              "<table border=\"1\" class=\"dataframe\">\n",
              "  <thead>\n",
              "    <tr style=\"text-align: right;\">\n",
              "      <th></th>\n",
              "      <th>count</th>\n",
              "    </tr>\n",
              "    <tr>\n",
              "      <th>white_binary</th>\n",
              "      <th></th>\n",
              "    </tr>\n",
              "  </thead>\n",
              "  <tbody>\n",
              "    <tr>\n",
              "      <th>0</th>\n",
              "      <td>938</td>\n",
              "    </tr>\n",
              "    <tr>\n",
              "      <th>1</th>\n",
              "      <td>505</td>\n",
              "    </tr>\n",
              "  </tbody>\n",
              "</table>\n",
              "</div><br><label><b>dtype:</b> int64</label>"
            ]
          },
          "metadata": {},
          "execution_count": 21
        }
      ]
    },
    {
      "cell_type": "code",
      "source": [
        "# Make predictions on the testing set and store them in y_pred_mitigate\n",
        "\n",
        "model = LogisticRegression()\n",
        "model.fit(Ali_X_resampled, Ali_y_resampled)\n",
        "y_pred_mitigated = model.predict(X_test)\n",
        "\n",
        "# Evaluate testing set predictions using evaluate_model()\n",
        "results_mitigated = evaluate_model(y_test, y_pred_mitigated, group_labels_test)\n",
        "\n",
        "#Save your results to all_mitigated_results\n",
        "results_mitigated['teammate'] = 'Ali'\n",
        "results_mitigated['experiment_type'] = 'post-mitigation'\n",
        "results_mitigated['predictor_model'] = 'Logistic Regression'\n",
        "results_mitigated['mitigation_strategy'] = 'Pre-processing: Resampling (SMOTE)'\n",
        "all_mitigated_results.append(results_mitigated)\n",
        "\n",
        "pprint(results_mitigated)"
      ],
      "metadata": {
        "id": "kyTLqaggic05",
        "colab": {
          "base_uri": "https://localhost:8080/"
        },
        "outputId": "85036fe0-3c9a-4af0-ab40-712457e596a9"
      },
      "execution_count": null,
      "outputs": [
        {
          "output_type": "stream",
          "name": "stdout",
          "text": [
            "{'accuracy': 0.6909216909216909,\n",
            " 'accuracy_group0': 0.6833688699360341,\n",
            " 'accuracy_group1': 0.7049504950495049,\n",
            " 'demographic_parity_diff': 0.15713230171631232,\n",
            " 'equalized_odds_fpr_diff': 0.10418737574552683,\n",
            " 'equalized_odds_max_diff': 0.15352593973283624,\n",
            " 'equalized_odds_tpr_diff': 0.15352593973283624,\n",
            " 'experiment_type': 'post-mitigation',\n",
            " 'f1': 0.6141868512110726,\n",
            " 'f1_group0': 0.644311377245509,\n",
            " 'f1_group1': 0.5358255451713395,\n",
            " 'mitigation_strategy': 'Pre-processing: Resampling (SMOTE)',\n",
            " 'precision': 0.6623134328358209,\n",
            " 'precision_group0': 0.6725,\n",
            " 'precision_group1': 0.6323529411764706,\n",
            " 'predictor_model': 'Logistic Regression',\n",
            " 'recall': 0.5725806451612904,\n",
            " 'recall_group0': 0.6183908045977011,\n",
            " 'recall_group1': 0.4648648648648649,\n",
            " 'teammate': 'Ali'}\n"
          ]
        }
      ]
    },
    {
      "cell_type": "markdown",
      "source": [
        "{'accuracy': 0.6923076923076923,\n",
        " 'accuracy_group0': 0.6812366737739872,\n",
        " 'accuracy_group1': 0.7128712871287128,\n",
        " 'demographic_parity_diff': 0.16718528995756715,\n",
        " 'equalized_odds_fpr_diff': 0.12066351888667992,\n",
        " 'equalized_odds_max_diff': 0.15352593973283624,\n",
        " 'equalized_odds_tpr_diff': 0.15352593973283624,\n",
        " 'experiment_type': 'baseline',\n",
        " 'f1': 0.6152512998266898,\n",
        " 'f1_group0': 0.6427718040621266,\n",
        " 'f1_group1': 0.5425867507886435,\n",
        " 'mitigation_strategy': 'NONE',\n",
        " 'precision': 0.6647940074906367,\n",
        " 'precision_group0': 0.6691542288557214,\n",
        " 'precision_group1': 0.6515151515151515,\n",
        " 'predictor_model': 'Logistic Regression',\n",
        " 'recall': 0.5725806451612904,\n",
        " 'recall_group0': 0.6183908045977011,\n",
        " 'recall_group1': 0.4648648648648649,\n",
        " 'teammate': 'Ali'}"
      ],
      "metadata": {
        "id": "dcNrLUvaYPEm"
      }
    },
    {
      "cell_type": "markdown",
      "source": [
        "### Teammate 2's Conclusions\n",
        "\n",
        "\n",
        "*   Accuracy: The overall accuracy remains about the same pre-mitigation and post-mitigation (.6923 vs .6909), meaning that SMOTE re-sampling didn't have a large effect on overall model performance. We need to look at the group-specific metrics to see if SMOTE re-sampling was successful in mitigating bias based on race.\n",
        "*   Accuracy (Group 0): The accuracy for group 0 is very similar pre and post-mitigation (.6812 vs .6834). We do see a very small improvement, with SMOTE helping the model to improve Group 0 accuracy by a small amount.\n",
        "* Accuracy (Group 1): The accuracy for group 1 decreased by a small amount post-mitigation (.7129 vs .7050). While the model's accuracy for Group 1 is still relatively high, it has decreased overall after SMOTE.\n",
        "* Demographic parity & Equalized odds: Demographic parity has a slight decrease (.1672 vs .1571) after SMOTE, suggesting that there has been an improvement in the balance of PPR between groups. FPR saw a decrease (.1207 vs .1042), showing that SMOTE successfully reduced the number of false positives, especially for non-white individuals. Max_diff and TPR remained unchanged.\n",
        "* F1 Scores: The Group 0 F1 score improved slightly, suggesting that the model was able to balance precision and recall better for this group after SMOTE. The Group 1 F1 score decreased slightly, suggesting the oppoosite for group 1.\n",
        "* Precision and Recall: Precision for Group 0 had a slight improvement, showing that there are less false-positives for the non-white group. Precision for Group 1 had a slight drop, showing evidence of more false-positives in the white group. Recall had no change.\n",
        "\n",
        "Overall Analysis:\n",
        "We can see that the SMOTE oversampling helped to bring the False Positive Rate for Group 0 (Disadvantaged) down. This is important because a false positive means that the individual was predicted as likely to reoffend, when they did not actually reoffend. Reducing false positives for non-white individuals helps prevent disproportionately penalizing them with predictions that suggest they are more likely to reoffend than they actually are, which could support existing racial bias. Demographic parity was also decreased, meaning that the model's predictions became more balanced between white/non-white individuals. However, there is a trade-off in performance for Group 1 (White), with the precision, F1 score, and accuracy decreasing very slightly. The model is slightly more fair post-mitigation, and has a more equal balance in overall fairness, while still maintaining the same predictive power.\n",
        "\n",
        "\n"
      ],
      "metadata": {
        "id": "lmwKk9f2BlaM"
      }
    },
    {
      "cell_type": "markdown",
      "source": [
        "## Teammate 3"
      ],
      "metadata": {
        "id": "ZUpxtxuUCF_I"
      }
    },
    {
      "cell_type": "code",
      "source": [
        "# Implement your bias mitigation strategy\n",
        "## If you chose preprocessing, you will train a new version of your predictor model with new/modified inputs.\n",
        "## If you chose inprocessing, you will train a new version of your predictor with modified learning objective (loss function).\n",
        "## If you chose postprocessing, you will implement strategies to modify the predictions (y_pred) of the trained baseline predictor model from the previous milestone without training any new version of the predictor model.\n",
        "\n",
        "group_labels_test = np.array(group_labels_test)\n",
        "\n",
        "def postprocess_predictions(y_pred_proba, group_labels_test, threshold_group0=0.5, threshold_group1=0.4):\n",
        "  # used 0.5 as default and 0.4 to reduce bias for labeling whites as non-reoffenders\n",
        "    y_pred_mitigated = np.zeros_like(y_pred_proba, dtype=int)\n",
        "    for i, proba in enumerate(y_pred_proba):\n",
        "        if group_labels_test[i] == 0:\n",
        "            y_pred_mitigated[i] = int(proba >= threshold_group0)\n",
        "        else:\n",
        "            y_pred_mitigated[i] = int(proba >= threshold_group1)\n",
        "    return y_pred_mitigated\n",
        "\n",
        "#returns preds\n",
        "y_pred_mitigated = postprocess_predictions(y_pred_proba, group_labels_test)\n",
        "\n",
        "# evaluate mitigated preds\n",
        "results_mitigated = evaluate_model(y_test, y_pred_mitigated, group_labels_test)\n",
        "\n",
        "\n",
        "# Save your results to all_mitigated_results\n",
        "results_mitigated['teammate'] = 'Karen'\n",
        "results_mitigated['experiment_type'] = 'post-mitigation'\n",
        "results_mitigated['predictor_model'] = 'Decision Tree Classifier'\n",
        "results_mitigated['mitigation_strategy'] = 'postprocessing'\n",
        "all_mitigated_results.append(results_mitigated)\n",
        "\n",
        "print(results_mitigated)"
      ],
      "metadata": {
        "id": "4KlNlq7lCInQ",
        "colab": {
          "base_uri": "https://localhost:8080/"
        },
        "outputId": "0350ae37-9160-4d84-823b-a8707fbb8da0"
      },
      "execution_count": null,
      "outputs": [
        {
          "output_type": "stream",
          "name": "stdout",
          "text": [
            "{'accuracy': 0.6735966735966736, 'precision': 0.5997322623828648, 'recall': 0.7225806451612903, 'f1': 0.6554498902706657, 'accuracy_group0': 0.6844349680170576, 'precision_group0': 0.6370808678500987, 'recall_group0': 0.7425287356321839, 'f1_group0': 0.6857749469214437, 'accuracy_group1': 0.6534653465346535, 'precision_group1': 0.5208333333333334, 'recall_group1': 0.6756756756756757, 'f1_group1': 0.5882352941176471, 'demographic_parity_diff': 0.06526420232641605, 'equalized_odds_tpr_diff': 0.06685305995650825, 'equalized_odds_fpr_diff': 0.0064301689860835065, 'equalized_odds_max_diff': 0.06685305995650825, 'teammate': 'Karen', 'experiment_type': 'post-mitigation', 'predictor_model': 'Decision Tree Classifier', 'mitigation_strategy': 'postprocessing'}\n"
          ]
        }
      ]
    },
    {
      "cell_type": "markdown",
      "source": [
        "**Overall Performance:**\n",
        "\n",
        "Accuracy: 0.6868 -> 0.6736\n",
        "\n",
        "Precision: 0.6203 -> 0.5997\n",
        "\n",
        "Recall: 0.6984 -> 0.7226\n",
        "\n",
        "F1 Score: 0.6571 -> 0.6554\n",
        "\n",
        "**Group Performance:**\n",
        "\n",
        "**Group 0 (Non-white):**\n",
        "\n",
        "Accuracy: 0.6844\n",
        "\n",
        "Precision: 0.6371\n",
        "\n",
        "Recall: 0.7425\n",
        "\n",
        "F1 Score: 0.6858\n",
        "\n",
        "**Group 1 (White):**\n",
        "\n",
        "Accuracy: 0.6534\n",
        "\n",
        "Precision: 0.5208\n",
        "\n",
        "Recall: 0.6757\n",
        "\n",
        "F1 Score: 0.5882\n",
        "\n",
        "**Bias Mitigation Metrics:**\n",
        "\n",
        "Demographic Parity Difference: 0.6911 -> 0.0653\n",
        "\n",
        "Equalized Odds - True Positive Rate (TPR) Difference: 0.1623 -> 0.0669\n",
        "\n",
        "Equalized Odds - False Positive Rate (FPR) Difference: 0.1126 -> 0.0064\n",
        "\n",
        "Equalized Odds - Maximum Difference: 0.1479 -> 0.0669\n",
        "\n"
      ],
      "metadata": {
        "id": "Fbaox70O_zuF"
      }
    },
    {
      "cell_type": "markdown",
      "source": [
        "### Teammate 3's Conclusions\n",
        "Post mitigation results show an improvement in fairness. The accuracy decreased slightly (0.6868 → 0.6736),and precision dropped (0.6203 → 0.5997), but recall and F1 scores improved (0.6984 → 0.7226) (0.6571 → 0.6554) respectively. Group 0(nonwhite) had a higher accuracy (0.6844) and precision(0.6371), and Group 1(white) had a higher recall(0.6757) but lower precision(0.5208). This shows that the recall is balanced across groups. The bias mitigation metrics showed improvements as the Demographic Parity Difference decreased from 0.6911 to 0.0653 and the equalized odds decreased significantly. We can clearly see the tradeoff between accuracy and precision but the mitigation strategy greatly enhanced fairness.\n",
        "\n",
        "Threshold adjustment does not change the underlying bias in the model but rather works to make future adjustments better.\n",
        "\n"
      ],
      "metadata": {
        "id": "0YN7oELoCKmF"
      }
    },
    {
      "cell_type": "markdown",
      "source": [
        "## Teammate 4"
      ],
      "metadata": {
        "id": "3qNMlhiECMcD"
      }
    },
    {
      "cell_type": "code",
      "source": [
        "# Implement your bias mitigation strategy\n",
        "## If you chose preprocessing, you will train a new version of your predictor model with new/modified inputs.\n",
        "## If you chose inprocessing, you will train a new version of your predictor with modified learning objective (loss function).\n",
        "## If you chose postprocessing, you will implement strategies to modify the predictions (y_pred) of the trained baseline predictor model from the previous milestone without training any new version of the predictor model.\n",
        "\n",
        "from fairlearn.reductions import ExponentiatedGradient, EqualizedOdds\n",
        "\n",
        "# Make predictions on the testing set and store them in y_pred_mitigate\n",
        "mitigator = ExponentiatedGradient(rf_model_top, constraints=EqualizedOdds())\n",
        "\n",
        "# Make predictions on the testing set and store them in y_pred_mitigate\n",
        "mitigator.fit(X_train, y_train, sensitive_features=group_labels_train)\n",
        "y_pred_mitigated = mitigator.predict(X_test)\n",
        "\n",
        "# Evaluate testing set predictions using evaluate_model()\n",
        "results_mitigated = evaluate_model(y_test, y_pred_mitigated, group_labels_test)\n",
        "print(\"\\n Mitigated Evaluation Results:\")\n",
        "for metric, value in results_mitigated.items() :\n",
        "    print(f\"{metric}:{value:.4f}\")\n"
      ],
      "metadata": {
        "id": "s-JCVhRdCPSw",
        "colab": {
          "base_uri": "https://localhost:8080/"
        },
        "outputId": "de5b4d53-3070-4e11-cda5-f5d166aa919a"
      },
      "execution_count": null,
      "outputs": [
        {
          "output_type": "stream",
          "name": "stdout",
          "text": [
            "\n",
            " Mitigated Evaluation Results:\n",
            "accuracy:0.6417\n",
            "precision:0.5829\n",
            "recall:0.5839\n",
            "f1:0.5834\n",
            "accuracy_group0:0.6535\n",
            "precision_group0:0.6316\n",
            "recall_group0:0.6069\n",
            "f1_group0:0.6190\n",
            "accuracy_group1:0.6198\n",
            "precision_group1:0.4828\n",
            "recall_group1:0.5297\n",
            "f1_group1:0.5052\n",
            "demographic_parity_diff:0.0436\n",
            "equalized_odds_tpr_diff:0.0772\n",
            "equalized_odds_fpr_diff:0.0220\n",
            "equalized_odds_max_diff:0.0772\n"
          ]
        }
      ]
    },
    {
      "cell_type": "markdown",
      "source": [
        "**After applying the Exponentiated Gradient Reduction In-Processing strategy to the Random Forest model,  we can observe improvements in fairness metrics. However we got a slight reduction in overall performance. The model's accuracy decreased marginally from 0.6507 to 0.6459. Precision and recall also experienced small reductions from 0.5948 to 0.5889 and from 0.5871 to 0.5823, respectively. However, the trade-off in overall performance resulted in improved fairness across demographic groups. The demographic parity difference dropped from 0.1315 to 0.0473, and the equalized odds differences both TPR and FPR significantly improved as TPR difference decreased from 0.1511 to 0.0749, and FPR difference decreased from 0.0738 to 0.0154. These reductions suggest that the model is now treating the non white group and the white group more equitably, despite a minor loss in predictive power.\n",
        "\n",
        " This strategy effectively reduced unfair treatment between groups while maintaining reasonably strong predictive performance. This means the model is now less biased in predicting two-year recidivism outcomes across different demographic groups, contributing to a fairer decision-making process in criminal justice predictions**"
      ],
      "metadata": {
        "id": "RpW4sXuuxxZt"
      }
    },
    {
      "cell_type": "code",
      "source": [
        "results_mitigated['teammate'] = 'Swaraj Dash'\n",
        "results_mitigated['experiment_type'] = 'post-mitigation'\n",
        "results_mitigated['predictor_model'] = 'Random Forest'\n",
        "results_mitigated['mitigation_strategy'] = 'In-Processing'\n",
        "all_mitigated_results.append(results_mitigated)\n"
      ],
      "metadata": {
        "id": "470x4Ob7q42B"
      },
      "execution_count": null,
      "outputs": []
    },
    {
      "cell_type": "markdown",
      "source": [
        "### Teammate 4's Conclusions\n",
        "[Briefly describe findings and conclusions here. Compare post-mitigation results with baseline results for your model. What is the % improvement in performance post-mitigation?]\n"
      ],
      "metadata": {
        "id": "hnJcnOevCSm-"
      }
    },
    {
      "cell_type": "markdown",
      "source": [
        "# Conclusions\n",
        "_(new in this milestone)_\n"
      ],
      "metadata": {
        "id": "y4LK5WRD7LvV"
      }
    },
    {
      "cell_type": "code",
      "source": [
        "# Collect all the results in one table.\n",
        "overall_results = pd.concat([pd.DataFrame(all_baseline_results), pd.DataFrame(all_mitigated_results)])\n",
        "overall_results ## Note: The table displayed below in this starter notebook is for your reference, your team's table will be slightly different (e.g. different metrics, no.of sensitive attribute-based groups, actual values, etc.) upon successful completion of this notebook."
      ],
      "metadata": {
        "id": "ZAgZJYf7F70N",
        "colab": {
          "base_uri": "https://localhost:8080/"
        },
        "outputId": "e9a62de5-5e9a-4032-daf5-a365825eeb39"
      },
      "execution_count": null,
      "outputs": [
        {
          "output_type": "execute_result",
          "data": {
            "text/plain": [
              "   accuracy  accuracy_group0  accuracy_group1  demographic_parity_diff  \\\n",
              "0  0.660430         0.651386         0.677228                 0.141012   \n",
              "1  0.692308         0.681237         0.712871                 0.167185   \n",
              "2  0.686764         0.684435         0.691089                 0.162294   \n",
              "3  0.650728         0.652452         0.647525                 0.131535   \n",
              "0  0.661123         0.648188         0.685149                 0.145122   \n",
              "1  0.690922         0.683369         0.704950                 0.157132   \n",
              "2  0.673597         0.684435         0.653465                 0.065264   \n",
              "3  0.641719         0.653518         0.619802                 0.043649   \n",
              "\n",
              "   equalized_odds_fpr_diff  equalized_odds_max_diff  equalized_odds_tpr_diff  \\\n",
              "0                 0.074963                 0.183784                 0.183784   \n",
              "1                 0.120664                 0.153526                 0.153526   \n",
              "2                 0.112680                 0.147934                 0.147934   \n",
              "3                 0.073770                 0.151103                 0.151103   \n",
              "0                 0.089730                 0.170550                 0.170550   \n",
              "1                 0.104187                 0.153526                 0.153526   \n",
              "2                 0.006430                 0.066853                 0.066853   \n",
              "3                 0.021962                 0.077167                 0.077167   \n",
              "\n",
              "   experiment_type        f1  f1_group0  f1_group1  \\\n",
              "0         baseline  0.466231   0.515556   0.329218   \n",
              "1         baseline  0.615251   0.642772   0.542587   \n",
              "2         baseline  0.657056   0.685775   0.585106   \n",
              "3         baseline  0.590909   0.627854   0.500000   \n",
              "0  post-mitigation  0.479233   0.521739   0.361446   \n",
              "1  post-mitigation  0.614187   0.644311   0.535826   \n",
              "2  post-mitigation  0.655450   0.685775   0.588235   \n",
              "3  post-mitigation  0.583400   0.618992   0.505155   \n",
              "\n",
              "                  mitigation_strategy  precision  precision_group0  \\\n",
              "0                                NONE   0.718121          0.725000   \n",
              "1                                NONE   0.664794          0.669154   \n",
              "2                                NONE   0.620344          0.637081   \n",
              "3                                NONE   0.594771          0.623583   \n",
              "0                       preprocessing   0.705329          0.705882   \n",
              "1  Pre-processing: Resampling (SMOTE)   0.662313          0.672500   \n",
              "2                      postprocessing   0.599732          0.637081   \n",
              "3                       In-Processing   0.582931          0.631579   \n",
              "\n",
              "   precision_group1           predictor_model    recall  recall_group0  \\\n",
              "0          0.689655               Naive Bayes  0.345161       0.400000   \n",
              "1          0.651515       Logistic Regression  0.572581       0.618391   \n",
              "2          0.575916  Decision Tree Classifier  0.698387       0.742529   \n",
              "3          0.520468             Random Forest  0.587097       0.632184   \n",
              "0          0.703125               Naive Bayes  0.362903       0.413793   \n",
              "1          0.632353       Logistic Regression  0.572581       0.618391   \n",
              "2          0.520833  Decision Tree Classifier  0.722581       0.742529   \n",
              "3          0.482759             Random Forest  0.583871       0.606897   \n",
              "\n",
              "   recall_group1     teammate  \n",
              "0       0.216216        Rohan  \n",
              "1       0.464865          Ali  \n",
              "2       0.594595        Karen  \n",
              "3       0.481081  Swaraj Dash  \n",
              "0       0.243243        Rohan  \n",
              "1       0.464865          Ali  \n",
              "2       0.675676        Karen  \n",
              "3       0.529730  Swaraj Dash  "
            ],
            "text/html": [
              "\n",
              "  <div id=\"df-fa135677-77fb-4a14-90b3-0c9954ea99b1\" class=\"colab-df-container\">\n",
              "    <div>\n",
              "<style scoped>\n",
              "    .dataframe tbody tr th:only-of-type {\n",
              "        vertical-align: middle;\n",
              "    }\n",
              "\n",
              "    .dataframe tbody tr th {\n",
              "        vertical-align: top;\n",
              "    }\n",
              "\n",
              "    .dataframe thead th {\n",
              "        text-align: right;\n",
              "    }\n",
              "</style>\n",
              "<table border=\"1\" class=\"dataframe\">\n",
              "  <thead>\n",
              "    <tr style=\"text-align: right;\">\n",
              "      <th></th>\n",
              "      <th>accuracy</th>\n",
              "      <th>accuracy_group0</th>\n",
              "      <th>accuracy_group1</th>\n",
              "      <th>demographic_parity_diff</th>\n",
              "      <th>equalized_odds_fpr_diff</th>\n",
              "      <th>equalized_odds_max_diff</th>\n",
              "      <th>equalized_odds_tpr_diff</th>\n",
              "      <th>experiment_type</th>\n",
              "      <th>f1</th>\n",
              "      <th>f1_group0</th>\n",
              "      <th>f1_group1</th>\n",
              "      <th>mitigation_strategy</th>\n",
              "      <th>precision</th>\n",
              "      <th>precision_group0</th>\n",
              "      <th>precision_group1</th>\n",
              "      <th>predictor_model</th>\n",
              "      <th>recall</th>\n",
              "      <th>recall_group0</th>\n",
              "      <th>recall_group1</th>\n",
              "      <th>teammate</th>\n",
              "    </tr>\n",
              "  </thead>\n",
              "  <tbody>\n",
              "    <tr>\n",
              "      <th>0</th>\n",
              "      <td>0.660430</td>\n",
              "      <td>0.651386</td>\n",
              "      <td>0.677228</td>\n",
              "      <td>0.141012</td>\n",
              "      <td>0.074963</td>\n",
              "      <td>0.183784</td>\n",
              "      <td>0.183784</td>\n",
              "      <td>baseline</td>\n",
              "      <td>0.466231</td>\n",
              "      <td>0.515556</td>\n",
              "      <td>0.329218</td>\n",
              "      <td>NONE</td>\n",
              "      <td>0.718121</td>\n",
              "      <td>0.725000</td>\n",
              "      <td>0.689655</td>\n",
              "      <td>Naive Bayes</td>\n",
              "      <td>0.345161</td>\n",
              "      <td>0.400000</td>\n",
              "      <td>0.216216</td>\n",
              "      <td>Rohan</td>\n",
              "    </tr>\n",
              "    <tr>\n",
              "      <th>1</th>\n",
              "      <td>0.692308</td>\n",
              "      <td>0.681237</td>\n",
              "      <td>0.712871</td>\n",
              "      <td>0.167185</td>\n",
              "      <td>0.120664</td>\n",
              "      <td>0.153526</td>\n",
              "      <td>0.153526</td>\n",
              "      <td>baseline</td>\n",
              "      <td>0.615251</td>\n",
              "      <td>0.642772</td>\n",
              "      <td>0.542587</td>\n",
              "      <td>NONE</td>\n",
              "      <td>0.664794</td>\n",
              "      <td>0.669154</td>\n",
              "      <td>0.651515</td>\n",
              "      <td>Logistic Regression</td>\n",
              "      <td>0.572581</td>\n",
              "      <td>0.618391</td>\n",
              "      <td>0.464865</td>\n",
              "      <td>Ali</td>\n",
              "    </tr>\n",
              "    <tr>\n",
              "      <th>2</th>\n",
              "      <td>0.686764</td>\n",
              "      <td>0.684435</td>\n",
              "      <td>0.691089</td>\n",
              "      <td>0.162294</td>\n",
              "      <td>0.112680</td>\n",
              "      <td>0.147934</td>\n",
              "      <td>0.147934</td>\n",
              "      <td>baseline</td>\n",
              "      <td>0.657056</td>\n",
              "      <td>0.685775</td>\n",
              "      <td>0.585106</td>\n",
              "      <td>NONE</td>\n",
              "      <td>0.620344</td>\n",
              "      <td>0.637081</td>\n",
              "      <td>0.575916</td>\n",
              "      <td>Decision Tree Classifier</td>\n",
              "      <td>0.698387</td>\n",
              "      <td>0.742529</td>\n",
              "      <td>0.594595</td>\n",
              "      <td>Karen</td>\n",
              "    </tr>\n",
              "    <tr>\n",
              "      <th>3</th>\n",
              "      <td>0.650728</td>\n",
              "      <td>0.652452</td>\n",
              "      <td>0.647525</td>\n",
              "      <td>0.131535</td>\n",
              "      <td>0.073770</td>\n",
              "      <td>0.151103</td>\n",
              "      <td>0.151103</td>\n",
              "      <td>baseline</td>\n",
              "      <td>0.590909</td>\n",
              "      <td>0.627854</td>\n",
              "      <td>0.500000</td>\n",
              "      <td>NONE</td>\n",
              "      <td>0.594771</td>\n",
              "      <td>0.623583</td>\n",
              "      <td>0.520468</td>\n",
              "      <td>Random Forest</td>\n",
              "      <td>0.587097</td>\n",
              "      <td>0.632184</td>\n",
              "      <td>0.481081</td>\n",
              "      <td>Swaraj Dash</td>\n",
              "    </tr>\n",
              "    <tr>\n",
              "      <th>0</th>\n",
              "      <td>0.661123</td>\n",
              "      <td>0.648188</td>\n",
              "      <td>0.685149</td>\n",
              "      <td>0.145122</td>\n",
              "      <td>0.089730</td>\n",
              "      <td>0.170550</td>\n",
              "      <td>0.170550</td>\n",
              "      <td>post-mitigation</td>\n",
              "      <td>0.479233</td>\n",
              "      <td>0.521739</td>\n",
              "      <td>0.361446</td>\n",
              "      <td>preprocessing</td>\n",
              "      <td>0.705329</td>\n",
              "      <td>0.705882</td>\n",
              "      <td>0.703125</td>\n",
              "      <td>Naive Bayes</td>\n",
              "      <td>0.362903</td>\n",
              "      <td>0.413793</td>\n",
              "      <td>0.243243</td>\n",
              "      <td>Rohan</td>\n",
              "    </tr>\n",
              "    <tr>\n",
              "      <th>1</th>\n",
              "      <td>0.690922</td>\n",
              "      <td>0.683369</td>\n",
              "      <td>0.704950</td>\n",
              "      <td>0.157132</td>\n",
              "      <td>0.104187</td>\n",
              "      <td>0.153526</td>\n",
              "      <td>0.153526</td>\n",
              "      <td>post-mitigation</td>\n",
              "      <td>0.614187</td>\n",
              "      <td>0.644311</td>\n",
              "      <td>0.535826</td>\n",
              "      <td>Pre-processing: Resampling (SMOTE)</td>\n",
              "      <td>0.662313</td>\n",
              "      <td>0.672500</td>\n",
              "      <td>0.632353</td>\n",
              "      <td>Logistic Regression</td>\n",
              "      <td>0.572581</td>\n",
              "      <td>0.618391</td>\n",
              "      <td>0.464865</td>\n",
              "      <td>Ali</td>\n",
              "    </tr>\n",
              "    <tr>\n",
              "      <th>2</th>\n",
              "      <td>0.673597</td>\n",
              "      <td>0.684435</td>\n",
              "      <td>0.653465</td>\n",
              "      <td>0.065264</td>\n",
              "      <td>0.006430</td>\n",
              "      <td>0.066853</td>\n",
              "      <td>0.066853</td>\n",
              "      <td>post-mitigation</td>\n",
              "      <td>0.655450</td>\n",
              "      <td>0.685775</td>\n",
              "      <td>0.588235</td>\n",
              "      <td>postprocessing</td>\n",
              "      <td>0.599732</td>\n",
              "      <td>0.637081</td>\n",
              "      <td>0.520833</td>\n",
              "      <td>Decision Tree Classifier</td>\n",
              "      <td>0.722581</td>\n",
              "      <td>0.742529</td>\n",
              "      <td>0.675676</td>\n",
              "      <td>Karen</td>\n",
              "    </tr>\n",
              "    <tr>\n",
              "      <th>3</th>\n",
              "      <td>0.641719</td>\n",
              "      <td>0.653518</td>\n",
              "      <td>0.619802</td>\n",
              "      <td>0.043649</td>\n",
              "      <td>0.021962</td>\n",
              "      <td>0.077167</td>\n",
              "      <td>0.077167</td>\n",
              "      <td>post-mitigation</td>\n",
              "      <td>0.583400</td>\n",
              "      <td>0.618992</td>\n",
              "      <td>0.505155</td>\n",
              "      <td>In-Processing</td>\n",
              "      <td>0.582931</td>\n",
              "      <td>0.631579</td>\n",
              "      <td>0.482759</td>\n",
              "      <td>Random Forest</td>\n",
              "      <td>0.583871</td>\n",
              "      <td>0.606897</td>\n",
              "      <td>0.529730</td>\n",
              "      <td>Swaraj Dash</td>\n",
              "    </tr>\n",
              "  </tbody>\n",
              "</table>\n",
              "</div>\n",
              "    <div class=\"colab-df-buttons\">\n",
              "\n",
              "  <div class=\"colab-df-container\">\n",
              "    <button class=\"colab-df-convert\" onclick=\"convertToInteractive('df-fa135677-77fb-4a14-90b3-0c9954ea99b1')\"\n",
              "            title=\"Convert this dataframe to an interactive table.\"\n",
              "            style=\"display:none;\">\n",
              "\n",
              "  <svg xmlns=\"http://www.w3.org/2000/svg\" height=\"24px\" viewBox=\"0 -960 960 960\">\n",
              "    <path d=\"M120-120v-720h720v720H120Zm60-500h600v-160H180v160Zm220 220h160v-160H400v160Zm0 220h160v-160H400v160ZM180-400h160v-160H180v160Zm440 0h160v-160H620v160ZM180-180h160v-160H180v160Zm440 0h160v-160H620v160Z\"/>\n",
              "  </svg>\n",
              "    </button>\n",
              "\n",
              "  <style>\n",
              "    .colab-df-container {\n",
              "      display:flex;\n",
              "      gap: 12px;\n",
              "    }\n",
              "\n",
              "    .colab-df-convert {\n",
              "      background-color: #E8F0FE;\n",
              "      border: none;\n",
              "      border-radius: 50%;\n",
              "      cursor: pointer;\n",
              "      display: none;\n",
              "      fill: #1967D2;\n",
              "      height: 32px;\n",
              "      padding: 0 0 0 0;\n",
              "      width: 32px;\n",
              "    }\n",
              "\n",
              "    .colab-df-convert:hover {\n",
              "      background-color: #E2EBFA;\n",
              "      box-shadow: 0px 1px 2px rgba(60, 64, 67, 0.3), 0px 1px 3px 1px rgba(60, 64, 67, 0.15);\n",
              "      fill: #174EA6;\n",
              "    }\n",
              "\n",
              "    .colab-df-buttons div {\n",
              "      margin-bottom: 4px;\n",
              "    }\n",
              "\n",
              "    [theme=dark] .colab-df-convert {\n",
              "      background-color: #3B4455;\n",
              "      fill: #D2E3FC;\n",
              "    }\n",
              "\n",
              "    [theme=dark] .colab-df-convert:hover {\n",
              "      background-color: #434B5C;\n",
              "      box-shadow: 0px 1px 3px 1px rgba(0, 0, 0, 0.15);\n",
              "      filter: drop-shadow(0px 1px 2px rgba(0, 0, 0, 0.3));\n",
              "      fill: #FFFFFF;\n",
              "    }\n",
              "  </style>\n",
              "\n",
              "    <script>\n",
              "      const buttonEl =\n",
              "        document.querySelector('#df-fa135677-77fb-4a14-90b3-0c9954ea99b1 button.colab-df-convert');\n",
              "      buttonEl.style.display =\n",
              "        google.colab.kernel.accessAllowed ? 'block' : 'none';\n",
              "\n",
              "      async function convertToInteractive(key) {\n",
              "        const element = document.querySelector('#df-fa135677-77fb-4a14-90b3-0c9954ea99b1');\n",
              "        const dataTable =\n",
              "          await google.colab.kernel.invokeFunction('convertToInteractive',\n",
              "                                                    [key], {});\n",
              "        if (!dataTable) return;\n",
              "\n",
              "        const docLinkHtml = 'Like what you see? Visit the ' +\n",
              "          '<a target=\"_blank\" href=https://colab.research.google.com/notebooks/data_table.ipynb>data table notebook</a>'\n",
              "          + ' to learn more about interactive tables.';\n",
              "        element.innerHTML = '';\n",
              "        dataTable['output_type'] = 'display_data';\n",
              "        await google.colab.output.renderOutput(dataTable, element);\n",
              "        const docLink = document.createElement('div');\n",
              "        docLink.innerHTML = docLinkHtml;\n",
              "        element.appendChild(docLink);\n",
              "      }\n",
              "    </script>\n",
              "  </div>\n",
              "\n",
              "\n",
              "<div id=\"df-f254ddc6-fee8-44eb-9b38-c0d07b19895b\">\n",
              "  <button class=\"colab-df-quickchart\" onclick=\"quickchart('df-f254ddc6-fee8-44eb-9b38-c0d07b19895b')\"\n",
              "            title=\"Suggest charts\"\n",
              "            style=\"display:none;\">\n",
              "\n",
              "<svg xmlns=\"http://www.w3.org/2000/svg\" height=\"24px\"viewBox=\"0 0 24 24\"\n",
              "     width=\"24px\">\n",
              "    <g>\n",
              "        <path d=\"M19 3H5c-1.1 0-2 .9-2 2v14c0 1.1.9 2 2 2h14c1.1 0 2-.9 2-2V5c0-1.1-.9-2-2-2zM9 17H7v-7h2v7zm4 0h-2V7h2v10zm4 0h-2v-4h2v4z\"/>\n",
              "    </g>\n",
              "</svg>\n",
              "  </button>\n",
              "\n",
              "<style>\n",
              "  .colab-df-quickchart {\n",
              "      --bg-color: #E8F0FE;\n",
              "      --fill-color: #1967D2;\n",
              "      --hover-bg-color: #E2EBFA;\n",
              "      --hover-fill-color: #174EA6;\n",
              "      --disabled-fill-color: #AAA;\n",
              "      --disabled-bg-color: #DDD;\n",
              "  }\n",
              "\n",
              "  [theme=dark] .colab-df-quickchart {\n",
              "      --bg-color: #3B4455;\n",
              "      --fill-color: #D2E3FC;\n",
              "      --hover-bg-color: #434B5C;\n",
              "      --hover-fill-color: #FFFFFF;\n",
              "      --disabled-bg-color: #3B4455;\n",
              "      --disabled-fill-color: #666;\n",
              "  }\n",
              "\n",
              "  .colab-df-quickchart {\n",
              "    background-color: var(--bg-color);\n",
              "    border: none;\n",
              "    border-radius: 50%;\n",
              "    cursor: pointer;\n",
              "    display: none;\n",
              "    fill: var(--fill-color);\n",
              "    height: 32px;\n",
              "    padding: 0;\n",
              "    width: 32px;\n",
              "  }\n",
              "\n",
              "  .colab-df-quickchart:hover {\n",
              "    background-color: var(--hover-bg-color);\n",
              "    box-shadow: 0 1px 2px rgba(60, 64, 67, 0.3), 0 1px 3px 1px rgba(60, 64, 67, 0.15);\n",
              "    fill: var(--button-hover-fill-color);\n",
              "  }\n",
              "\n",
              "  .colab-df-quickchart-complete:disabled,\n",
              "  .colab-df-quickchart-complete:disabled:hover {\n",
              "    background-color: var(--disabled-bg-color);\n",
              "    fill: var(--disabled-fill-color);\n",
              "    box-shadow: none;\n",
              "  }\n",
              "\n",
              "  .colab-df-spinner {\n",
              "    border: 2px solid var(--fill-color);\n",
              "    border-color: transparent;\n",
              "    border-bottom-color: var(--fill-color);\n",
              "    animation:\n",
              "      spin 1s steps(1) infinite;\n",
              "  }\n",
              "\n",
              "  @keyframes spin {\n",
              "    0% {\n",
              "      border-color: transparent;\n",
              "      border-bottom-color: var(--fill-color);\n",
              "      border-left-color: var(--fill-color);\n",
              "    }\n",
              "    20% {\n",
              "      border-color: transparent;\n",
              "      border-left-color: var(--fill-color);\n",
              "      border-top-color: var(--fill-color);\n",
              "    }\n",
              "    30% {\n",
              "      border-color: transparent;\n",
              "      border-left-color: var(--fill-color);\n",
              "      border-top-color: var(--fill-color);\n",
              "      border-right-color: var(--fill-color);\n",
              "    }\n",
              "    40% {\n",
              "      border-color: transparent;\n",
              "      border-right-color: var(--fill-color);\n",
              "      border-top-color: var(--fill-color);\n",
              "    }\n",
              "    60% {\n",
              "      border-color: transparent;\n",
              "      border-right-color: var(--fill-color);\n",
              "    }\n",
              "    80% {\n",
              "      border-color: transparent;\n",
              "      border-right-color: var(--fill-color);\n",
              "      border-bottom-color: var(--fill-color);\n",
              "    }\n",
              "    90% {\n",
              "      border-color: transparent;\n",
              "      border-bottom-color: var(--fill-color);\n",
              "    }\n",
              "  }\n",
              "</style>\n",
              "\n",
              "  <script>\n",
              "    async function quickchart(key) {\n",
              "      const quickchartButtonEl =\n",
              "        document.querySelector('#' + key + ' button');\n",
              "      quickchartButtonEl.disabled = true;  // To prevent multiple clicks.\n",
              "      quickchartButtonEl.classList.add('colab-df-spinner');\n",
              "      try {\n",
              "        const charts = await google.colab.kernel.invokeFunction(\n",
              "            'suggestCharts', [key], {});\n",
              "      } catch (error) {\n",
              "        console.error('Error during call to suggestCharts:', error);\n",
              "      }\n",
              "      quickchartButtonEl.classList.remove('colab-df-spinner');\n",
              "      quickchartButtonEl.classList.add('colab-df-quickchart-complete');\n",
              "    }\n",
              "    (() => {\n",
              "      let quickchartButtonEl =\n",
              "        document.querySelector('#df-f254ddc6-fee8-44eb-9b38-c0d07b19895b button');\n",
              "      quickchartButtonEl.style.display =\n",
              "        google.colab.kernel.accessAllowed ? 'block' : 'none';\n",
              "    })();\n",
              "  </script>\n",
              "</div>\n",
              "\n",
              "  <div id=\"id_d7042758-9f9a-4fcc-ba89-986c379a1f37\">\n",
              "    <style>\n",
              "      .colab-df-generate {\n",
              "        background-color: #E8F0FE;\n",
              "        border: none;\n",
              "        border-radius: 50%;\n",
              "        cursor: pointer;\n",
              "        display: none;\n",
              "        fill: #1967D2;\n",
              "        height: 32px;\n",
              "        padding: 0 0 0 0;\n",
              "        width: 32px;\n",
              "      }\n",
              "\n",
              "      .colab-df-generate:hover {\n",
              "        background-color: #E2EBFA;\n",
              "        box-shadow: 0px 1px 2px rgba(60, 64, 67, 0.3), 0px 1px 3px 1px rgba(60, 64, 67, 0.15);\n",
              "        fill: #174EA6;\n",
              "      }\n",
              "\n",
              "      [theme=dark] .colab-df-generate {\n",
              "        background-color: #3B4455;\n",
              "        fill: #D2E3FC;\n",
              "      }\n",
              "\n",
              "      [theme=dark] .colab-df-generate:hover {\n",
              "        background-color: #434B5C;\n",
              "        box-shadow: 0px 1px 3px 1px rgba(0, 0, 0, 0.15);\n",
              "        filter: drop-shadow(0px 1px 2px rgba(0, 0, 0, 0.3));\n",
              "        fill: #FFFFFF;\n",
              "      }\n",
              "    </style>\n",
              "    <button class=\"colab-df-generate\" onclick=\"generateWithVariable('overall_results')\"\n",
              "            title=\"Generate code using this dataframe.\"\n",
              "            style=\"display:none;\">\n",
              "\n",
              "  <svg xmlns=\"http://www.w3.org/2000/svg\" height=\"24px\"viewBox=\"0 0 24 24\"\n",
              "       width=\"24px\">\n",
              "    <path d=\"M7,19H8.4L18.45,9,17,7.55,7,17.6ZM5,21V16.75L18.45,3.32a2,2,0,0,1,2.83,0l1.4,1.43a1.91,1.91,0,0,1,.58,1.4,1.91,1.91,0,0,1-.58,1.4L9.25,21ZM18.45,9,17,7.55Zm-12,3A5.31,5.31,0,0,0,4.9,8.1,5.31,5.31,0,0,0,1,6.5,5.31,5.31,0,0,0,4.9,4.9,5.31,5.31,0,0,0,6.5,1,5.31,5.31,0,0,0,8.1,4.9,5.31,5.31,0,0,0,12,6.5,5.46,5.46,0,0,0,6.5,12Z\"/>\n",
              "  </svg>\n",
              "    </button>\n",
              "    <script>\n",
              "      (() => {\n",
              "      const buttonEl =\n",
              "        document.querySelector('#id_d7042758-9f9a-4fcc-ba89-986c379a1f37 button.colab-df-generate');\n",
              "      buttonEl.style.display =\n",
              "        google.colab.kernel.accessAllowed ? 'block' : 'none';\n",
              "\n",
              "      buttonEl.onclick = () => {\n",
              "        google.colab.notebook.generateWithVariable('overall_results');\n",
              "      }\n",
              "      })();\n",
              "    </script>\n",
              "  </div>\n",
              "\n",
              "    </div>\n",
              "  </div>\n"
            ],
            "application/vnd.google.colaboratory.intrinsic+json": {
              "type": "dataframe",
              "variable_name": "overall_results",
              "summary": "{\n  \"name\": \"overall_results\",\n  \"rows\": 8,\n  \"fields\": [\n    {\n      \"column\": \"accuracy\",\n      \"properties\": {\n        \"dtype\": \"number\",\n        \"std\": 0.019161858534032582,\n        \"min\": 0.6417186417186417,\n        \"max\": 0.6923076923076923,\n        \"num_unique_values\": 8,\n        \"samples\": [\n          0.6923076923076923,\n          0.6909216909216909,\n          0.6604296604296604\n        ],\n        \"semantic_type\": \"\",\n        \"description\": \"\"\n      }\n    },\n    {\n      \"column\": \"accuracy_group0\",\n      \"properties\": {\n        \"dtype\": \"number\",\n        \"std\": 0.017190315028355118,\n        \"min\": 0.6481876332622601,\n        \"max\": 0.6844349680170576,\n        \"num_unique_values\": 7,\n        \"samples\": [\n          0.6513859275053305,\n          0.6812366737739872,\n          0.6833688699360341\n        ],\n        \"semantic_type\": \"\",\n        \"description\": \"\"\n      }\n    },\n    {\n      \"column\": \"accuracy_group1\",\n      \"properties\": {\n        \"dtype\": \"number\",\n        \"std\": 0.03152253302586398,\n        \"min\": 0.6198019801980198,\n        \"max\": 0.7128712871287128,\n        \"num_unique_values\": 8,\n        \"samples\": [\n          0.7128712871287128,\n          0.7049504950495049,\n          0.6772277227722773\n        ],\n        \"semantic_type\": \"\",\n        \"description\": \"\"\n      }\n    },\n    {\n      \"column\": \"demographic_parity_diff\",\n      \"properties\": {\n        \"dtype\": \"number\",\n        \"std\": 0.046401272648900496,\n        \"min\": 0.04364879984800185,\n        \"max\": 0.16718528995756715,\n        \"num_unique_values\": 8,\n        \"samples\": [\n          0.16718528995756715,\n          0.15713230171631232,\n          0.14101205429711416\n        ],\n        \"semantic_type\": \"\",\n        \"description\": \"\"\n      }\n    },\n    {\n      \"column\": \"equalized_odds_fpr_diff\",\n      \"properties\": {\n        \"dtype\": \"number\",\n        \"std\": 0.04155513029548322,\n        \"min\": 0.0064301689860835065,\n        \"max\": 0.12066351888667992,\n        \"num_unique_values\": 8,\n        \"samples\": [\n          0.12066351888667992,\n          0.10418737574552683,\n          0.0749627236580517\n        ],\n        \"semantic_type\": \"\",\n        \"description\": \"\"\n      }\n    },\n    {\n      \"column\": \"equalized_odds_max_diff\",\n      \"properties\": {\n        \"dtype\": \"number\",\n        \"std\": 0.0425452150419539,\n        \"min\": 0.06685305995650825,\n        \"max\": 0.1837837837837838,\n        \"num_unique_values\": 7,\n        \"samples\": [\n          0.1837837837837838,\n          0.15352593973283624,\n          0.06685305995650825\n        ],\n        \"semantic_type\": \"\",\n        \"description\": \"\"\n      }\n    },\n    {\n      \"column\": \"equalized_odds_tpr_diff\",\n      \"properties\": {\n        \"dtype\": \"number\",\n        \"std\": 0.0425452150419539,\n        \"min\": 0.06685305995650825,\n        \"max\": 0.1837837837837838,\n        \"num_unique_values\": 7,\n        \"samples\": [\n          0.1837837837837838,\n          0.15352593973283624,\n          0.06685305995650825\n        ],\n        \"semantic_type\": \"\",\n        \"description\": \"\"\n      }\n    },\n    {\n      \"column\": \"experiment_type\",\n      \"properties\": {\n        \"dtype\": \"category\",\n        \"num_unique_values\": 2,\n        \"samples\": [\n          \"post-mitigation\",\n          \"baseline\"\n        ],\n        \"semantic_type\": \"\",\n        \"description\": \"\"\n      }\n    },\n    {\n      \"column\": \"f1\",\n      \"properties\": {\n        \"dtype\": \"number\",\n        \"std\": 0.07290961703468714,\n        \"min\": 0.4662309368191721,\n        \"max\": 0.6570561456752656,\n        \"num_unique_values\": 8,\n        \"samples\": [\n          0.6152512998266898,\n          0.6141868512110726\n        ],\n        \"semantic_type\": \"\",\n        \"description\": \"\"\n      }\n    },\n    {\n      \"column\": \"f1_group0\",\n      \"properties\": {\n        \"dtype\": \"number\",\n        \"std\": 0.06584801926730895,\n        \"min\": 0.5155555555555555,\n        \"max\": 0.6857749469214437,\n        \"num_unique_values\": 7,\n        \"samples\": [\n          0.5155555555555555,\n          0.6427718040621266\n        ],\n        \"semantic_type\": \"\",\n        \"description\": \"\"\n      }\n    },\n    {\n      \"column\": \"f1_group1\",\n      \"properties\": {\n        \"dtype\": \"number\",\n        \"std\": 0.09722755382721056,\n        \"min\": 0.3292181069958848,\n        \"max\": 0.5882352941176471,\n        \"num_unique_values\": 8,\n        \"samples\": [\n          0.5425867507886435,\n          0.5358255451713395\n        ],\n        \"semantic_type\": \"\",\n        \"description\": \"\"\n      }\n    },\n    {\n      \"column\": \"mitigation_strategy\",\n      \"properties\": {\n        \"dtype\": \"string\",\n        \"num_unique_values\": 5,\n        \"samples\": [\n          \"preprocessing\",\n          \"In-Processing\"\n        ],\n        \"semantic_type\": \"\",\n        \"description\": \"\"\n      }\n    },\n    {\n      \"column\": \"precision\",\n      \"properties\": {\n        \"dtype\": \"number\",\n        \"std\": 0.0516767735642911,\n        \"min\": 0.5829307568438004,\n        \"max\": 0.7181208053691275,\n        \"num_unique_values\": 8,\n        \"samples\": [\n          0.6647940074906367,\n          0.6623134328358209\n        ],\n        \"semantic_type\": \"\",\n        \"description\": \"\"\n      }\n    },\n    {\n      \"column\": \"precision_group0\",\n      \"properties\": {\n        \"dtype\": \"number\",\n        \"std\": 0.037215687871310785,\n        \"min\": 0.6235827664399093,\n        \"max\": 0.725,\n        \"num_unique_values\": 7,\n        \"samples\": [\n          0.725,\n          0.6691542288557214\n        ],\n        \"semantic_type\": \"\",\n        \"description\": \"\"\n      }\n    },\n    {\n      \"column\": \"precision_group1\",\n      \"properties\": {\n        \"dtype\": \"number\",\n        \"std\": 0.0838564516343487,\n        \"min\": 0.4827586206896552,\n        \"max\": 0.703125,\n        \"num_unique_values\": 8,\n        \"samples\": [\n          0.6515151515151515,\n          0.6323529411764706\n        ],\n        \"semantic_type\": \"\",\n        \"description\": \"\"\n      }\n    },\n    {\n      \"column\": \"predictor_model\",\n      \"properties\": {\n        \"dtype\": \"string\",\n        \"num_unique_values\": 4,\n        \"samples\": [\n          \"Logistic Regression\",\n          \"Random Forest\"\n        ],\n        \"semantic_type\": \"\",\n        \"description\": \"\"\n      }\n    },\n    {\n      \"column\": \"recall\",\n      \"properties\": {\n        \"dtype\": \"number\",\n        \"std\": 0.137349996559621,\n        \"min\": 0.34516129032258064,\n        \"max\": 0.7225806451612903,\n        \"num_unique_values\": 7,\n        \"samples\": [\n          0.34516129032258064,\n          0.5725806451612904\n        ],\n        \"semantic_type\": \"\",\n        \"description\": \"\"\n      }\n    },\n    {\n      \"column\": \"recall_group0\",\n      \"properties\": {\n        \"dtype\": \"number\",\n        \"std\": 0.12927366748591987,\n        \"min\": 0.4,\n        \"max\": 0.7425287356321839,\n        \"num_unique_values\": 6,\n        \"samples\": [\n          0.4,\n          0.6183908045977011\n        ],\n        \"semantic_type\": \"\",\n        \"description\": \"\"\n      }\n    },\n    {\n      \"column\": \"recall_group1\",\n      \"properties\": {\n        \"dtype\": \"number\",\n        \"std\": 0.1587396225453347,\n        \"min\": 0.21621621621621623,\n        \"max\": 0.6756756756756757,\n        \"num_unique_values\": 7,\n        \"samples\": [\n          0.21621621621621623,\n          0.4648648648648649\n        ],\n        \"semantic_type\": \"\",\n        \"description\": \"\"\n      }\n    },\n    {\n      \"column\": \"teammate\",\n      \"properties\": {\n        \"dtype\": \"string\",\n        \"num_unique_values\": 4,\n        \"samples\": [\n          \"Ali\",\n          \"Swaraj Dash\"\n        ],\n        \"semantic_type\": \"\",\n        \"description\": \"\"\n      }\n    }\n  ]\n}"
            }
          },
          "metadata": {},
          "execution_count": 26
        }
      ]
    },
    {
      "cell_type": "markdown",
      "source": [
        "The mitigation strategies that our team applied to the COMPAS dataset have shown a notable improvement in fairness, although there were some trade-offs in overall performance.\n",
        "\n",
        " Teammate 1 applied a post-mitigation model on Naive Bayes model. The results showed a slight increase in accuracy from 73.53% to 74.36%, with an F1-score improving from 56.19% to 58.14%, suggesting a better balance between precision and recall. Recall increased from 39.52% to 41.45%, indicating the model became better at identifying true positives. Precision remained high at around 97.2%, showing the model’s strong ability to minimize false positives. These results suggest that the preprocessing technique helped enhance the model’s ability to fairly identify positive cases while maintaining reliability and minimizing bias.\n",
        "\n",
        "Teammate 2 applied SMOTE resampling on a Logistic Regression model. The overall accuracy remained nearly unchanged (69.23% to 69.09%), but demographic parity difference decreased slightly from 0.1672 to 0.1571, indicating improved balance in positive predictions between non-white and white groups. False Positive Rate (FPR) decreased, especially for non-white individuals, showing that the model became better at avoiding wrongful positive predictions for this group. However, Group 1's (white) accuracy and F1 score slightly dropped, reflecting a small trade-off in performance. Despite these changes, the mitigation strategy reduced racial bias, making the model more equitable in predicting recidivism while preserving overall predictive strength.\n",
        "\n",
        "Teammate 3 applied threshold adjustments on a Decision Tree model. This approach led to a slight decrease in overall accuracy from 68.68% to 67.36%, and precision dropped from 62.03% to 59.97%. However, recall increased from 69.84% to 72.26%, and the F1 score for Group 0 improved slightly. Notably, the demographic parity difference dropped from 0.6911 to 0.0653, and equalized odds differences improved significantly, indicating that the model became more balanced across demographic groups.\n",
        "\n",
        "Teammate 4 applied the Exponentiated Gradient Reduction in-processing strategy to a Random Forest model. Accuracy dropped slightly from 65.07% to 64.59%, with small reductions in precision that went down from 59.48% to 58.89% and recall from 58.71% to 58.23%. However, demographic parity difference decreased from 0.1315 to 0.0473, and equalized odds (both TPR and FPR) improved significantly, showing that the model treated both demographic groups more fairly.\n",
        "\n",
        "In conclusion, the mitigation strategies helped to balance fairness across groups while preserving predictive power. SMOTE resampling successfully reduced false positives for non-white individuals, helping to mitigate racial bias in predictions. The post-processing strategy helped produce a more balanced recall across groups, and the in-processing method improved fairness metrics despite a very minor performance drop. These improvements suggest that the models became more equitable and balanced in predicting two-year recidivism outcomes, contributing to a fairer decision-making process in the criminal justice system\n"
      ],
      "metadata": {
        "id": "ds54O8vGGAEw"
      }
    },
    {
      "cell_type": "code",
      "source": [
        "numeric_cols = overall_results.select_dtypes(include=['float64', 'int64']).columns\n",
        "\n",
        "\n",
        "results_long = overall_results.melt(id_vars=['experiment_type', 'predictor_model'], value_vars=numeric_cols, var_name='metric', value_name='value')\n",
        "plt.figure(figsize=(12, 8))\n",
        "color_palette = {\"baseline\": \"pink\", \"post-mitigation\": \"purple\"}\n",
        "for model in results_long['predictor_model'].unique():\n",
        "    plt.figure(figsize=(12, 8))\n",
        "    model_data = results_long[results_long['predictor_model'] == model]  # Filter data for the specific model\n",
        "    sns.barplot(x='metric', y='value', hue='experiment_type', palette=color_palette, data=model_data)\n",
        "\n",
        "    plt.title(f'Comparison of Baseline vs Mitigated Results for {model}', fontsize=16)\n",
        "    plt.xticks(rotation=45, ha=\"right\")\n",
        "    plt.ylabel('Score', fontsize=14)\n",
        "    plt.xlabel('Metric', fontsize=14)\n",
        "    plt.legend(title=\"Experiment Type\")\n",
        "    plt.tight_layout()\n",
        "    plt.show()"
      ],
      "metadata": {
        "id": "Z_UKULQBhs48",
        "colab": {
          "base_uri": "https://localhost:8080/",
          "height": 1000
        },
        "outputId": "ca4aaa47-7794-474f-eabb-15c3d6dd442f"
      },
      "execution_count": null,
      "outputs": [
        {
          "output_type": "display_data",
          "data": {
            "text/plain": [
              "<Figure size 1200x800 with 0 Axes>"
            ]
          },
          "metadata": {}
        },
        {
          "output_type": "display_data",
          "data": {
            "text/plain": [
              "<Figure size 1200x800 with 1 Axes>"
            ],
            "image/png": "[encoded data removed]"
          },
          "metadata": {}
        },
        {
          "output_type": "display_data",
          "data": {
            "text/plain": [
              "<Figure size 1200x800 with 1 Axes>"
            ],
            "image/png": "[encoded data removed]"
          },
          "metadata": {}
        },
        {
          "output_type": "display_data",
          "data": {
            "text/plain": [
              "<Figure size 1200x800 with 1 Axes>"
            ],
            "image/png": "[encoded data removed]"
          },
          "metadata": {}
        },
        {
          "output_type": "display_data",
          "data": {
            "text/plain": [
              "<Figure size 1200x800 with 1 Axes>"
            ],
            "image/png": "[encoded data removed]"
          },
          "metadata": {}
        }
      ]
    },
    {
      "cell_type": "markdown",
      "source": [
        "# References\n",
        "\n",
        "[List the references you used to complete this milestone here.]\n",
        "- Teammate 1:\n",
        "- Teammate 2: SMOTE Lab\n",
        "- Teammate 3: https://www.geeksforgeeks.org/feature-selection-using-decision-tree/\n",
        "https://www.geeksforgeeks.org/overfitting-in-decision-tree-models/\n",
        "- Teammate 4:"
      ],
      "metadata": {
        "id": "o-8NLvIOsPL-"
      }
    },
    {
      "cell_type": "markdown",
      "source": [
        "# Disclosures\n",
        "\n",
        "[Disclose use of generative AI and similar tools here.]\n",
        "- Teammate 1: N/A\n",
        "- Teammate 2: N/A\n",
        "- Teammate 3: No AI used\n",
        "- Teammate 4: N/A"
      ],
      "metadata": {
        "id": "CV3LsIXqKAg1"
      }
    }
  ]
}